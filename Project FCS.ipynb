{
 "cells": [
  {
   "cell_type": "markdown",
   "metadata": {},
   "source": [
    "# The MovieDataBase (TMDB)"
   ]
  },
  {
   "cell_type": "code",
   "execution_count": 1,
   "metadata": {
    "slideshow": {
     "slide_type": "-"
    }
   },
   "outputs": [],
   "source": [
    "import pandas as pd\n",
    "import numpy as np\n",
    "import re\n",
    "import json\n",
    "from IPython.display import Markdown, display"
   ]
  },
  {
   "cell_type": "markdown",
   "metadata": {},
   "source": [
    "<br>\n",
    "## Data Ingestion & Data Preprocessing"
   ]
  },
  {
   "cell_type": "code",
   "execution_count": 2,
   "metadata": {
    "scrolled": true
   },
   "outputs": [
    {
     "data": {
      "text/markdown": [
       "### Credits"
      ],
      "text/plain": [
       "<IPython.core.display.Markdown object>"
      ]
     },
     "metadata": {},
     "output_type": "display_data"
    },
    {
     "data": {
      "text/html": [
       "<div>\n",
       "<style scoped>\n",
       "    .dataframe tbody tr th:only-of-type {\n",
       "        vertical-align: middle;\n",
       "    }\n",
       "\n",
       "    .dataframe tbody tr th {\n",
       "        vertical-align: top;\n",
       "    }\n",
       "\n",
       "    .dataframe thead th {\n",
       "        text-align: right;\n",
       "    }\n",
       "</style>\n",
       "<table border=\"1\" class=\"dataframe\">\n",
       "  <thead>\n",
       "    <tr style=\"text-align: right;\">\n",
       "      <th></th>\n",
       "      <th>movie_id</th>\n",
       "      <th>title</th>\n",
       "      <th>cast</th>\n",
       "      <th>crew</th>\n",
       "    </tr>\n",
       "  </thead>\n",
       "  <tbody>\n",
       "    <tr>\n",
       "      <th>0</th>\n",
       "      <td>19995</td>\n",
       "      <td>Avatar</td>\n",
       "      <td>[{\"cast_id\": 242, \"character\": \"Jake Sully\", \"...</td>\n",
       "      <td>[{\"credit_id\": \"52fe48009251416c750aca23\", \"de...</td>\n",
       "    </tr>\n",
       "    <tr>\n",
       "      <th>1</th>\n",
       "      <td>285</td>\n",
       "      <td>Pirates of the Caribbean: At World's End</td>\n",
       "      <td>[{\"cast_id\": 4, \"character\": \"Captain Jack Spa...</td>\n",
       "      <td>[{\"credit_id\": \"52fe4232c3a36847f800b579\", \"de...</td>\n",
       "    </tr>\n",
       "    <tr>\n",
       "      <th>2</th>\n",
       "      <td>206647</td>\n",
       "      <td>Spectre</td>\n",
       "      <td>[{\"cast_id\": 1, \"character\": \"James Bond\", \"cr...</td>\n",
       "      <td>[{\"credit_id\": \"54805967c3a36829b5002c41\", \"de...</td>\n",
       "    </tr>\n",
       "    <tr>\n",
       "      <th>3</th>\n",
       "      <td>49026</td>\n",
       "      <td>The Dark Knight Rises</td>\n",
       "      <td>[{\"cast_id\": 2, \"character\": \"Bruce Wayne / Ba...</td>\n",
       "      <td>[{\"credit_id\": \"52fe4781c3a36847f81398c3\", \"de...</td>\n",
       "    </tr>\n",
       "    <tr>\n",
       "      <th>4</th>\n",
       "      <td>49529</td>\n",
       "      <td>John Carter</td>\n",
       "      <td>[{\"cast_id\": 5, \"character\": \"John Carter\", \"c...</td>\n",
       "      <td>[{\"credit_id\": \"52fe479ac3a36847f813eaa3\", \"de...</td>\n",
       "    </tr>\n",
       "  </tbody>\n",
       "</table>\n",
       "</div>"
      ],
      "text/plain": [
       "   movie_id                                     title  \\\n",
       "0     19995                                    Avatar   \n",
       "1       285  Pirates of the Caribbean: At World's End   \n",
       "2    206647                                   Spectre   \n",
       "3     49026                     The Dark Knight Rises   \n",
       "4     49529                               John Carter   \n",
       "\n",
       "                                                cast  \\\n",
       "0  [{\"cast_id\": 242, \"character\": \"Jake Sully\", \"...   \n",
       "1  [{\"cast_id\": 4, \"character\": \"Captain Jack Spa...   \n",
       "2  [{\"cast_id\": 1, \"character\": \"James Bond\", \"cr...   \n",
       "3  [{\"cast_id\": 2, \"character\": \"Bruce Wayne / Ba...   \n",
       "4  [{\"cast_id\": 5, \"character\": \"John Carter\", \"c...   \n",
       "\n",
       "                                                crew  \n",
       "0  [{\"credit_id\": \"52fe48009251416c750aca23\", \"de...  \n",
       "1  [{\"credit_id\": \"52fe4232c3a36847f800b579\", \"de...  \n",
       "2  [{\"credit_id\": \"54805967c3a36829b5002c41\", \"de...  \n",
       "3  [{\"credit_id\": \"52fe4781c3a36847f81398c3\", \"de...  \n",
       "4  [{\"credit_id\": \"52fe479ac3a36847f813eaa3\", \"de...  "
      ]
     },
     "metadata": {},
     "output_type": "display_data"
    },
    {
     "data": {
      "text/plain": [
       "(4803, 4)"
      ]
     },
     "metadata": {},
     "output_type": "display_data"
    },
    {
     "name": "stdout",
     "output_type": "stream",
     "text": [
      "Number of missing: 0\n",
      "\n",
      "'movie_id' chiave primaria dataframe 'credits', contiene infatti 4803 valori distinti\n",
      "\n"
     ]
    }
   ],
   "source": [
    "credits = pd.read_csv(\"data/tmdb_5000_credits.csv\")\n",
    "credits_missing = credits.shape[0] - credits.dropna(how = 'any').shape[0] # .shape prende tupla, con [0] prendiamo il primo elemento che corrisponde al num di righe\n",
    "\n",
    "# output\n",
    "display(Markdown(\"### Credits\"), \n",
    "        credits.head(), # out -> primi 5 elementi + dimensione datframe\n",
    "        credits.shape)  \n",
    "print(\"Number of missing:\", credits_missing)\n",
    "print(\"\\n'movie_id' chiave primaria dataframe 'credits', contiene infatti\", \n",
    "      len(credits['movie_id'].unique()), \n",
    "      \"valori distinti\\n\")"
   ]
  },
  {
   "cell_type": "code",
   "execution_count": 3,
   "metadata": {},
   "outputs": [
    {
     "data": {
      "text/markdown": [
       "### Movies"
      ],
      "text/plain": [
       "<IPython.core.display.Markdown object>"
      ]
     },
     "metadata": {},
     "output_type": "display_data"
    },
    {
     "data": {
      "text/html": [
       "<div>\n",
       "<style scoped>\n",
       "    .dataframe tbody tr th:only-of-type {\n",
       "        vertical-align: middle;\n",
       "    }\n",
       "\n",
       "    .dataframe tbody tr th {\n",
       "        vertical-align: top;\n",
       "    }\n",
       "\n",
       "    .dataframe thead th {\n",
       "        text-align: right;\n",
       "    }\n",
       "</style>\n",
       "<table border=\"1\" class=\"dataframe\">\n",
       "  <thead>\n",
       "    <tr style=\"text-align: right;\">\n",
       "      <th></th>\n",
       "      <th>budget</th>\n",
       "      <th>genres</th>\n",
       "      <th>homepage</th>\n",
       "      <th>id</th>\n",
       "      <th>keywords</th>\n",
       "      <th>original_language</th>\n",
       "      <th>original_title</th>\n",
       "      <th>overview</th>\n",
       "      <th>popularity</th>\n",
       "      <th>production_companies</th>\n",
       "      <th>production_countries</th>\n",
       "      <th>release_date</th>\n",
       "      <th>revenue</th>\n",
       "      <th>runtime</th>\n",
       "      <th>spoken_languages</th>\n",
       "      <th>status</th>\n",
       "      <th>tagline</th>\n",
       "      <th>title</th>\n",
       "      <th>vote_average</th>\n",
       "      <th>vote_count</th>\n",
       "    </tr>\n",
       "  </thead>\n",
       "  <tbody>\n",
       "    <tr>\n",
       "      <th>0</th>\n",
       "      <td>237000000</td>\n",
       "      <td>[{\"id\": 28, \"name\": \"Action\"}, {\"id\": 12, \"nam...</td>\n",
       "      <td>http://www.avatarmovie.com/</td>\n",
       "      <td>19995</td>\n",
       "      <td>[{\"id\": 1463, \"name\": \"culture clash\"}, {\"id\":...</td>\n",
       "      <td>en</td>\n",
       "      <td>Avatar</td>\n",
       "      <td>In the 22nd century, a paraplegic Marine is di...</td>\n",
       "      <td>150.437577</td>\n",
       "      <td>[{\"name\": \"Ingenious Film Partners\", \"id\": 289...</td>\n",
       "      <td>[{\"iso_3166_1\": \"US\", \"name\": \"United States o...</td>\n",
       "      <td>2009-12-10</td>\n",
       "      <td>2787965087</td>\n",
       "      <td>162.0</td>\n",
       "      <td>[{\"iso_639_1\": \"en\", \"name\": \"English\"}, {\"iso...</td>\n",
       "      <td>Released</td>\n",
       "      <td>Enter the World of Pandora.</td>\n",
       "      <td>Avatar</td>\n",
       "      <td>7.2</td>\n",
       "      <td>11800</td>\n",
       "    </tr>\n",
       "    <tr>\n",
       "      <th>1</th>\n",
       "      <td>300000000</td>\n",
       "      <td>[{\"id\": 12, \"name\": \"Adventure\"}, {\"id\": 14, \"...</td>\n",
       "      <td>http://disney.go.com/disneypictures/pirates/</td>\n",
       "      <td>285</td>\n",
       "      <td>[{\"id\": 270, \"name\": \"ocean\"}, {\"id\": 726, \"na...</td>\n",
       "      <td>en</td>\n",
       "      <td>Pirates of the Caribbean: At World's End</td>\n",
       "      <td>Captain Barbossa, long believed to be dead, ha...</td>\n",
       "      <td>139.082615</td>\n",
       "      <td>[{\"name\": \"Walt Disney Pictures\", \"id\": 2}, {\"...</td>\n",
       "      <td>[{\"iso_3166_1\": \"US\", \"name\": \"United States o...</td>\n",
       "      <td>2007-05-19</td>\n",
       "      <td>961000000</td>\n",
       "      <td>169.0</td>\n",
       "      <td>[{\"iso_639_1\": \"en\", \"name\": \"English\"}]</td>\n",
       "      <td>Released</td>\n",
       "      <td>At the end of the world, the adventure begins.</td>\n",
       "      <td>Pirates of the Caribbean: At World's End</td>\n",
       "      <td>6.9</td>\n",
       "      <td>4500</td>\n",
       "    </tr>\n",
       "    <tr>\n",
       "      <th>2</th>\n",
       "      <td>245000000</td>\n",
       "      <td>[{\"id\": 28, \"name\": \"Action\"}, {\"id\": 12, \"nam...</td>\n",
       "      <td>http://www.sonypictures.com/movies/spectre/</td>\n",
       "      <td>206647</td>\n",
       "      <td>[{\"id\": 470, \"name\": \"spy\"}, {\"id\": 818, \"name...</td>\n",
       "      <td>en</td>\n",
       "      <td>Spectre</td>\n",
       "      <td>A cryptic message from Bond’s past sends him o...</td>\n",
       "      <td>107.376788</td>\n",
       "      <td>[{\"name\": \"Columbia Pictures\", \"id\": 5}, {\"nam...</td>\n",
       "      <td>[{\"iso_3166_1\": \"GB\", \"name\": \"United Kingdom\"...</td>\n",
       "      <td>2015-10-26</td>\n",
       "      <td>880674609</td>\n",
       "      <td>148.0</td>\n",
       "      <td>[{\"iso_639_1\": \"fr\", \"name\": \"Fran\\u00e7ais\"},...</td>\n",
       "      <td>Released</td>\n",
       "      <td>A Plan No One Escapes</td>\n",
       "      <td>Spectre</td>\n",
       "      <td>6.3</td>\n",
       "      <td>4466</td>\n",
       "    </tr>\n",
       "  </tbody>\n",
       "</table>\n",
       "</div>"
      ],
      "text/plain": [
       "      budget                                             genres  \\\n",
       "0  237000000  [{\"id\": 28, \"name\": \"Action\"}, {\"id\": 12, \"nam...   \n",
       "1  300000000  [{\"id\": 12, \"name\": \"Adventure\"}, {\"id\": 14, \"...   \n",
       "2  245000000  [{\"id\": 28, \"name\": \"Action\"}, {\"id\": 12, \"nam...   \n",
       "\n",
       "                                       homepage      id  \\\n",
       "0                   http://www.avatarmovie.com/   19995   \n",
       "1  http://disney.go.com/disneypictures/pirates/     285   \n",
       "2   http://www.sonypictures.com/movies/spectre/  206647   \n",
       "\n",
       "                                            keywords original_language  \\\n",
       "0  [{\"id\": 1463, \"name\": \"culture clash\"}, {\"id\":...                en   \n",
       "1  [{\"id\": 270, \"name\": \"ocean\"}, {\"id\": 726, \"na...                en   \n",
       "2  [{\"id\": 470, \"name\": \"spy\"}, {\"id\": 818, \"name...                en   \n",
       "\n",
       "                             original_title  \\\n",
       "0                                    Avatar   \n",
       "1  Pirates of the Caribbean: At World's End   \n",
       "2                                   Spectre   \n",
       "\n",
       "                                            overview  popularity  \\\n",
       "0  In the 22nd century, a paraplegic Marine is di...  150.437577   \n",
       "1  Captain Barbossa, long believed to be dead, ha...  139.082615   \n",
       "2  A cryptic message from Bond’s past sends him o...  107.376788   \n",
       "\n",
       "                                production_companies  \\\n",
       "0  [{\"name\": \"Ingenious Film Partners\", \"id\": 289...   \n",
       "1  [{\"name\": \"Walt Disney Pictures\", \"id\": 2}, {\"...   \n",
       "2  [{\"name\": \"Columbia Pictures\", \"id\": 5}, {\"nam...   \n",
       "\n",
       "                                production_countries release_date     revenue  \\\n",
       "0  [{\"iso_3166_1\": \"US\", \"name\": \"United States o...   2009-12-10  2787965087   \n",
       "1  [{\"iso_3166_1\": \"US\", \"name\": \"United States o...   2007-05-19   961000000   \n",
       "2  [{\"iso_3166_1\": \"GB\", \"name\": \"United Kingdom\"...   2015-10-26   880674609   \n",
       "\n",
       "   runtime                                   spoken_languages    status  \\\n",
       "0    162.0  [{\"iso_639_1\": \"en\", \"name\": \"English\"}, {\"iso...  Released   \n",
       "1    169.0           [{\"iso_639_1\": \"en\", \"name\": \"English\"}]  Released   \n",
       "2    148.0  [{\"iso_639_1\": \"fr\", \"name\": \"Fran\\u00e7ais\"},...  Released   \n",
       "\n",
       "                                          tagline  \\\n",
       "0                     Enter the World of Pandora.   \n",
       "1  At the end of the world, the adventure begins.   \n",
       "2                           A Plan No One Escapes   \n",
       "\n",
       "                                      title  vote_average  vote_count  \n",
       "0                                    Avatar           7.2       11800  \n",
       "1  Pirates of the Caribbean: At World's End           6.9        4500  \n",
       "2                                   Spectre           6.3        4466  "
      ]
     },
     "metadata": {},
     "output_type": "display_data"
    },
    {
     "data": {
      "text/plain": [
       "(4803, 20)"
      ]
     },
     "metadata": {},
     "output_type": "display_data"
    },
    {
     "name": "stdout",
     "output_type": "stream",
     "text": [
      "Number of missing: 3310\n",
      "\n",
      "'id' chiave primaria dataframe 'movies', contiene infatti 4803 valori distinti\n"
     ]
    }
   ],
   "source": [
    "movies = pd.read_csv(\"data/tmdb_5000_movies.csv\")\n",
    "movies_missing = movies.shape[0] - movies.dropna(how = 'any').shape[0] # .shape prende tupla, con [0] prendiamo il primo elemento che corrisponde al num di righe\n",
    "\n",
    "# output\n",
    "display(Markdown(\"### Movies\"), \n",
    "        movies.head(3), # out -> primi 5 elementi + dimensione datframe\n",
    "        movies.shape)\n",
    "print(\"Number of missing:\", movies_missing)\n",
    "print(\"\\n'id' chiave primaria dataframe 'movies', contiene infatti\", \n",
    "      len(movies['id'].unique()), \n",
    "      \"valori distinti\")"
   ]
  },
  {
   "cell_type": "markdown",
   "metadata": {},
   "source": [
    "<br>\n",
    "## 1 - For each movie, compute the number of cast members"
   ]
  },
  {
   "cell_type": "code",
   "execution_count": 4,
   "metadata": {},
   "outputs": [
    {
     "data": {
      "text/markdown": [
       "<br>Es. movie_id: 285 abbiamo elementi del cast ripetuti:"
      ],
      "text/plain": [
       "<IPython.core.display.Markdown object>"
      ]
     },
     "metadata": {},
     "output_type": "display_data"
    },
    {
     "data": {
      "text/html": [
       "<div>\n",
       "<style scoped>\n",
       "    .dataframe tbody tr th:only-of-type {\n",
       "        vertical-align: middle;\n",
       "    }\n",
       "\n",
       "    .dataframe tbody tr th {\n",
       "        vertical-align: top;\n",
       "    }\n",
       "\n",
       "    .dataframe thead th {\n",
       "        text-align: right;\n",
       "    }\n",
       "</style>\n",
       "<table border=\"1\" class=\"dataframe\">\n",
       "  <thead>\n",
       "    <tr style=\"text-align: right;\">\n",
       "      <th></th>\n",
       "      <th>cast_id</th>\n",
       "      <th>character</th>\n",
       "      <th>credit_id</th>\n",
       "      <th>gender</th>\n",
       "      <th>id</th>\n",
       "      <th>name</th>\n",
       "      <th>order</th>\n",
       "    </tr>\n",
       "  </thead>\n",
       "  <tbody>\n",
       "    <tr>\n",
       "      <th>12</th>\n",
       "      <td>37</td>\n",
       "      <td>Captain Teague Sparrow</td>\n",
       "      <td>52fe4232c3a36847f800b5b3</td>\n",
       "      <td>2</td>\n",
       "      <td>1430</td>\n",
       "      <td>Keith Richards</td>\n",
       "      <td>12</td>\n",
       "    </tr>\n",
       "    <tr>\n",
       "      <th>31</th>\n",
       "      <td>65</td>\n",
       "      <td>Captain Teague</td>\n",
       "      <td>58bc2a37c3a368663003740b</td>\n",
       "      <td>2</td>\n",
       "      <td>1430</td>\n",
       "      <td>Keith Richards</td>\n",
       "      <td>31</td>\n",
       "    </tr>\n",
       "  </tbody>\n",
       "</table>\n",
       "</div>"
      ],
      "text/plain": [
       "    cast_id               character                 credit_id  gender    id  \\\n",
       "12       37  Captain Teague Sparrow  52fe4232c3a36847f800b5b3       2  1430   \n",
       "31       65          Captain Teague  58bc2a37c3a368663003740b       2  1430   \n",
       "\n",
       "              name  order  \n",
       "12  Keith Richards     12  \n",
       "31  Keith Richards     31  "
      ]
     },
     "metadata": {},
     "output_type": "display_data"
    },
    {
     "data": {
      "text/markdown": [
       "<br>**Risultato (elementi del cast ripetuti non vengono conteggiati):**"
      ],
      "text/plain": [
       "<IPython.core.display.Markdown object>"
      ]
     },
     "metadata": {},
     "output_type": "display_data"
    },
    {
     "data": {
      "text/html": [
       "<div>\n",
       "<style scoped>\n",
       "    .dataframe tbody tr th:only-of-type {\n",
       "        vertical-align: middle;\n",
       "    }\n",
       "\n",
       "    .dataframe tbody tr th {\n",
       "        vertical-align: top;\n",
       "    }\n",
       "\n",
       "    .dataframe thead th {\n",
       "        text-align: right;\n",
       "    }\n",
       "</style>\n",
       "<table border=\"1\" class=\"dataframe\">\n",
       "  <thead>\n",
       "    <tr style=\"text-align: right;\">\n",
       "      <th></th>\n",
       "      <th>movie_id</th>\n",
       "      <th>title</th>\n",
       "      <th>cast_members</th>\n",
       "    </tr>\n",
       "  </thead>\n",
       "  <tbody>\n",
       "    <tr>\n",
       "      <th>0</th>\n",
       "      <td>19995</td>\n",
       "      <td>Avatar</td>\n",
       "      <td>83</td>\n",
       "    </tr>\n",
       "    <tr>\n",
       "      <th>1</th>\n",
       "      <td>285</td>\n",
       "      <td>Pirates of the Caribbean: At World's End</td>\n",
       "      <td>33</td>\n",
       "    </tr>\n",
       "    <tr>\n",
       "      <th>2</th>\n",
       "      <td>206647</td>\n",
       "      <td>Spectre</td>\n",
       "      <td>83</td>\n",
       "    </tr>\n",
       "    <tr>\n",
       "      <th>3</th>\n",
       "      <td>49026</td>\n",
       "      <td>The Dark Knight Rises</td>\n",
       "      <td>158</td>\n",
       "    </tr>\n",
       "    <tr>\n",
       "      <th>4</th>\n",
       "      <td>49529</td>\n",
       "      <td>John Carter</td>\n",
       "      <td>27</td>\n",
       "    </tr>\n",
       "  </tbody>\n",
       "</table>\n",
       "</div>"
      ],
      "text/plain": [
       "   movie_id                                     title  cast_members\n",
       "0     19995                                    Avatar            83\n",
       "1       285  Pirates of the Caribbean: At World's End            33\n",
       "2    206647                                   Spectre            83\n",
       "3     49026                     The Dark Knight Rises           158\n",
       "4     49529                               John Carter            27"
      ]
     },
     "metadata": {},
     "output_type": "display_data"
    },
    {
     "data": {
      "text/plain": [
       "(4803, 3)"
      ]
     },
     "metadata": {},
     "output_type": "display_data"
    },
    {
     "data": {
      "text/markdown": [
       "<br>"
      ],
      "text/plain": [
       "<IPython.core.display.Markdown object>"
      ]
     },
     "metadata": {},
     "output_type": "display_data"
    }
   ],
   "source": [
    "def n_cast(x): # per calcolare il numero di cast member\n",
    "    x = json.loads(x)\n",
    "    if (len(x) != 0):\n",
    "        df = pd.DataFrame(x)['id'].unique() # vediamo se ci sono membri del cast ripetuti\n",
    "        return len(df)\n",
    "    else:\n",
    "        return 0 # se non ci sono membri nel cast\n",
    "    \n",
    "credits['cast_members'] = credits['cast'].apply(n_cast) # creiamo nuova colonna con all'interno il numero di cast member\n",
    "app = pd.DataFrame(credits['cast'].apply(json.loads)[1]) # trasformiamo in un dataframe l'elem di posizione 1 della colonna 'cast', dove abbiamo notato che eliminando i valori ripetuti, si ha un numero di elementi del cast minore. Es.Keith Richards 'id'-1430\n",
    "\n",
    "# output\n",
    "display(Markdown(\"<br>Es. movie_id: 285 abbiamo elementi del cast ripetuti:\"),\n",
    "        app[app['id']==1430], # 1430 id 'Keith Richards' - elemento ripetuto\n",
    "        Markdown(\"<br>**Risultato (elementi del cast ripetuti non vengono conteggiati):**\"),\n",
    "        credits[['movie_id', 'title', 'cast_members']].head(),\n",
    "        credits[['movie_id', 'title', 'cast_members']].shape,\n",
    "        Markdown(\"<br>\"))"
   ]
  },
  {
   "cell_type": "code",
   "execution_count": 5,
   "metadata": {
    "scrolled": true
   },
   "outputs": [
    {
     "data": {
      "text/markdown": [
       "<br>Primi 5 casi in cui cast_members == 0"
      ],
      "text/plain": [
       "<IPython.core.display.Markdown object>"
      ]
     },
     "metadata": {},
     "output_type": "display_data"
    },
    {
     "data": {
      "text/html": [
       "<div>\n",
       "<style scoped>\n",
       "    .dataframe tbody tr th:only-of-type {\n",
       "        vertical-align: middle;\n",
       "    }\n",
       "\n",
       "    .dataframe tbody tr th {\n",
       "        vertical-align: top;\n",
       "    }\n",
       "\n",
       "    .dataframe thead th {\n",
       "        text-align: right;\n",
       "    }\n",
       "</style>\n",
       "<table border=\"1\" class=\"dataframe\">\n",
       "  <thead>\n",
       "    <tr style=\"text-align: right;\">\n",
       "      <th></th>\n",
       "      <th>movie_id</th>\n",
       "      <th>title</th>\n",
       "      <th>cast</th>\n",
       "      <th>crew</th>\n",
       "      <th>cast_members</th>\n",
       "    </tr>\n",
       "  </thead>\n",
       "  <tbody>\n",
       "    <tr>\n",
       "      <th>2601</th>\n",
       "      <td>17644</td>\n",
       "      <td>Barney's Great Adventure</td>\n",
       "      <td>[]</td>\n",
       "      <td>[{\"credit_id\": \"52fe473b9251416c750921ff\", \"de...</td>\n",
       "      <td>0</td>\n",
       "    </tr>\n",
       "    <tr>\n",
       "      <th>3670</th>\n",
       "      <td>447027</td>\n",
       "      <td>Running Forever</td>\n",
       "      <td>[]</td>\n",
       "      <td>[]</td>\n",
       "      <td>0</td>\n",
       "    </tr>\n",
       "    <tr>\n",
       "      <th>3992</th>\n",
       "      <td>346081</td>\n",
       "      <td>Sardaarji</td>\n",
       "      <td>[]</td>\n",
       "      <td>[{\"credit_id\": \"558ab3f4925141076f0001d7\", \"de...</td>\n",
       "      <td>0</td>\n",
       "    </tr>\n",
       "    <tr>\n",
       "      <th>4009</th>\n",
       "      <td>126509</td>\n",
       "      <td>2016: Obama's America</td>\n",
       "      <td>[]</td>\n",
       "      <td>[{\"credit_id\": \"52fe4ae1c3a368484e16bcd7\", \"de...</td>\n",
       "      <td>0</td>\n",
       "    </tr>\n",
       "    <tr>\n",
       "      <th>4068</th>\n",
       "      <td>371085</td>\n",
       "      <td>Sharkskin</td>\n",
       "      <td>[]</td>\n",
       "      <td>[]</td>\n",
       "      <td>0</td>\n",
       "    </tr>\n",
       "  </tbody>\n",
       "</table>\n",
       "</div>"
      ],
      "text/plain": [
       "      movie_id                     title cast  \\\n",
       "2601     17644  Barney's Great Adventure   []   \n",
       "3670    447027           Running Forever   []   \n",
       "3992    346081                 Sardaarji   []   \n",
       "4009    126509     2016: Obama's America   []   \n",
       "4068    371085                 Sharkskin   []   \n",
       "\n",
       "                                                   crew  cast_members  \n",
       "2601  [{\"credit_id\": \"52fe473b9251416c750921ff\", \"de...             0  \n",
       "3670                                                 []             0  \n",
       "3992  [{\"credit_id\": \"558ab3f4925141076f0001d7\", \"de...             0  \n",
       "4009  [{\"credit_id\": \"52fe4ae1c3a368484e16bcd7\", \"de...             0  \n",
       "4068                                                 []             0  "
      ]
     },
     "metadata": {},
     "output_type": "display_data"
    },
    {
     "data": {
      "text/plain": [
       "(43, 5)"
      ]
     },
     "metadata": {},
     "output_type": "display_data"
    },
    {
     "data": {
      "text/markdown": [
       "**Numero di film con 0 membri, 'dovuti' ad errori di inserimento: 43**"
      ],
      "text/plain": [
       "<IPython.core.display.Markdown object>"
      ]
     },
     "metadata": {},
     "output_type": "display_data"
    }
   ],
   "source": [
    "display(Markdown(\"<br>Primi 5 casi in cui cast_members == 0\"), \n",
    "        credits[credits['cast_members']==0].head(), \n",
    "        credits[credits['cast_members']==0].shape,\n",
    "        Markdown(\"**Numero di film con 0 membri, 'dovuti' ad errori di inserimento: 43**\"))"
   ]
  },
  {
   "cell_type": "markdown",
   "metadata": {},
   "source": [
    "<br>\n",
    "## 2 - How many movies do not have a homepage?\n",
    "Si suppone che i film che non hanno una homepage siano impostati come nulli."
   ]
  },
  {
   "cell_type": "code",
   "execution_count": 6,
   "metadata": {},
   "outputs": [
    {
     "name": "stdout",
     "output_type": "stream",
     "text": [
      "\n",
      " \u001b[1m Il numero di film che non hanno una homepage sono: 3091 \u001b[0;0m\n"
     ]
    },
    {
     "data": {
      "text/html": [
       "<div>\n",
       "<style scoped>\n",
       "    .dataframe tbody tr th:only-of-type {\n",
       "        vertical-align: middle;\n",
       "    }\n",
       "\n",
       "    .dataframe tbody tr th {\n",
       "        vertical-align: top;\n",
       "    }\n",
       "\n",
       "    .dataframe thead th {\n",
       "        text-align: right;\n",
       "    }\n",
       "</style>\n",
       "<table border=\"1\" class=\"dataframe\">\n",
       "  <thead>\n",
       "    <tr style=\"text-align: right;\">\n",
       "      <th></th>\n",
       "      <th>id</th>\n",
       "      <th>title</th>\n",
       "      <th>homepage</th>\n",
       "    </tr>\n",
       "  </thead>\n",
       "  <tbody>\n",
       "    <tr>\n",
       "      <th>15</th>\n",
       "      <td>2454</td>\n",
       "      <td>The Chronicles of Narnia: Prince Caspian</td>\n",
       "      <td>NaN</td>\n",
       "    </tr>\n",
       "    <tr>\n",
       "      <th>24</th>\n",
       "      <td>254</td>\n",
       "      <td>King Kong</td>\n",
       "      <td>NaN</td>\n",
       "    </tr>\n",
       "    <tr>\n",
       "      <th>27</th>\n",
       "      <td>44833</td>\n",
       "      <td>Battleship</td>\n",
       "      <td>NaN</td>\n",
       "    </tr>\n",
       "    <tr>\n",
       "      <th>33</th>\n",
       "      <td>36668</td>\n",
       "      <td>X-Men: The Last Stand</td>\n",
       "      <td>NaN</td>\n",
       "    </tr>\n",
       "    <tr>\n",
       "      <th>34</th>\n",
       "      <td>62211</td>\n",
       "      <td>Monsters University</td>\n",
       "      <td>NaN</td>\n",
       "    </tr>\n",
       "  </tbody>\n",
       "</table>\n",
       "</div>"
      ],
      "text/plain": [
       "       id                                     title homepage\n",
       "15   2454  The Chronicles of Narnia: Prince Caspian      NaN\n",
       "24    254                                 King Kong      NaN\n",
       "27  44833                                Battleship      NaN\n",
       "33  36668                     X-Men: The Last Stand      NaN\n",
       "34  62211                       Monsters University      NaN"
      ]
     },
     "metadata": {},
     "output_type": "display_data"
    },
    {
     "data": {
      "text/plain": [
       "(3091, 3)"
      ]
     },
     "metadata": {},
     "output_type": "display_data"
    }
   ],
   "source": [
    "bold = \"\\033[1m\" # per scrivere in grassetto\n",
    "reset = \"\\033[0;0m\"\n",
    "\n",
    "noHome = len(movies[movies['homepage'].isnull()]) # vediamo se null e prendiamo solo quelli, ovviamente usiamo len() per vedere quanti ne sono\n",
    "\n",
    "# output\n",
    "print(\"\\n\", bold, \"Il numero di film che non hanno una homepage sono:\", noHome, reset)\n",
    "display(movies[movies['homepage'].isnull()][['id', 'title', 'homepage']].head(),\n",
    "        movies[movies['homepage'].isnull()][['id', 'title', 'homepage']].shape)"
   ]
  },
  {
   "cell_type": "markdown",
   "metadata": {},
   "source": [
    "<br>\n",
    "## 3 - For each year, how many movies do not have a homepage?"
   ]
  },
  {
   "cell_type": "code",
   "execution_count": 7,
   "metadata": {},
   "outputs": [
    {
     "data": {
      "text/markdown": [
       "<br>**Per ogni anno numero di film senza homepage (ordine decrescente):**"
      ],
      "text/plain": [
       "<IPython.core.display.Markdown object>"
      ]
     },
     "metadata": {},
     "output_type": "display_data"
    },
    {
     "data": {
      "text/html": [
       "<div>\n",
       "<style scoped>\n",
       "    .dataframe tbody tr th:only-of-type {\n",
       "        vertical-align: middle;\n",
       "    }\n",
       "\n",
       "    .dataframe tbody tr th {\n",
       "        vertical-align: top;\n",
       "    }\n",
       "\n",
       "    .dataframe thead th {\n",
       "        text-align: right;\n",
       "    }\n",
       "</style>\n",
       "<table border=\"1\" class=\"dataframe\">\n",
       "  <thead>\n",
       "    <tr style=\"text-align: right;\">\n",
       "      <th></th>\n",
       "      <th>year</th>\n",
       "      <th>n_noHomepage</th>\n",
       "    </tr>\n",
       "  </thead>\n",
       "  <tbody>\n",
       "    <tr>\n",
       "      <th>74</th>\n",
       "      <td>2002</td>\n",
       "      <td>164</td>\n",
       "    </tr>\n",
       "    <tr>\n",
       "      <th>73</th>\n",
       "      <td>2001</td>\n",
       "      <td>159</td>\n",
       "    </tr>\n",
       "    <tr>\n",
       "      <th>86</th>\n",
       "      <td>2014</td>\n",
       "      <td>157</td>\n",
       "    </tr>\n",
       "    <tr>\n",
       "      <th>76</th>\n",
       "      <td>2004</td>\n",
       "      <td>149</td>\n",
       "    </tr>\n",
       "    <tr>\n",
       "      <th>77</th>\n",
       "      <td>2005</td>\n",
       "      <td>149</td>\n",
       "    </tr>\n",
       "  </tbody>\n",
       "</table>\n",
       "</div>"
      ],
      "text/plain": [
       "    year  n_noHomepage\n",
       "74  2002           164\n",
       "73  2001           159\n",
       "86  2014           157\n",
       "76  2004           149\n",
       "77  2005           149"
      ]
     },
     "metadata": {},
     "output_type": "display_data"
    },
    {
     "data": {
      "text/plain": [
       "(89, 2)"
      ]
     },
     "metadata": {},
     "output_type": "display_data"
    }
   ],
   "source": [
    "movies['year'] = pd.to_datetime(movies['release_date']).dt.year # estraggo l'anno da release_date\n",
    "\n",
    "# movies[movies['year'].isnull()] # vediamo che c'è un anno NaN questo perchè non è indicata la release_date\n",
    "# movies.loc[4553]\n",
    "\n",
    "# prendiamo solo i film che non hanno una homepage, raggruppiamo per anno e calcoliamo quanti film sono presenti\n",
    "m_noHome = movies[movies['homepage'].isnull()].groupby('year').size().reset_index().rename(columns = {0:'n_noHomepage'}) \n",
    "m_noHome.year = m_noHome.year.astype(int) # diamo valori interi agli anni (il valore NaN precedente non permetteva ciò)\n",
    "\n",
    "# output\n",
    "display(Markdown(\"<br>**Per ogni anno numero di film senza homepage (ordine decrescente):**\"),\n",
    "        m_noHome.sort_values('n_noHomepage', ascending = False).head(),\n",
    "        m_noHome.shape)"
   ]
  },
  {
   "cell_type": "markdown",
   "metadata": {},
   "source": [
    "<br>\n",
    "## 4 - Extract the domain of each homepage"
   ]
  },
  {
   "cell_type": "code",
   "execution_count": 8,
   "metadata": {},
   "outputs": [
    {
     "data": {
      "text/markdown": [
       "<br>Film con più homepage:"
      ],
      "text/plain": [
       "<IPython.core.display.Markdown object>"
      ]
     },
     "metadata": {},
     "output_type": "display_data"
    },
    {
     "data": {
      "text/html": [
       "<div>\n",
       "<style scoped>\n",
       "    .dataframe tbody tr th:only-of-type {\n",
       "        vertical-align: middle;\n",
       "    }\n",
       "\n",
       "    .dataframe tbody tr th {\n",
       "        vertical-align: top;\n",
       "    }\n",
       "\n",
       "    .dataframe thead th {\n",
       "        text-align: right;\n",
       "    }\n",
       "</style>\n",
       "<table border=\"1\" class=\"dataframe\">\n",
       "  <thead>\n",
       "    <tr style=\"text-align: right;\">\n",
       "      <th></th>\n",
       "      <th>index</th>\n",
       "      <th>homepage</th>\n",
       "    </tr>\n",
       "  </thead>\n",
       "  <tbody>\n",
       "    <tr>\n",
       "      <th>0</th>\n",
       "      <td>3730</td>\n",
       "      <td>http://www.cargoderfilm.ch http://cargothemovi...</td>\n",
       "    </tr>\n",
       "  </tbody>\n",
       "</table>\n",
       "</div>"
      ],
      "text/plain": [
       "   index                                           homepage\n",
       "0   3730  http://www.cargoderfilm.ch http://cargothemovi..."
      ]
     },
     "metadata": {},
     "output_type": "display_data"
    },
    {
     "data": {
      "text/markdown": [
       "<br>"
      ],
      "text/plain": [
       "<IPython.core.display.Markdown object>"
      ]
     },
     "metadata": {},
     "output_type": "display_data"
    }
   ],
   "source": [
    "def multi_home(url): # per vedere se sono presenti più homepage\n",
    "    url = re.split(' ', url)\n",
    "    if (len(url) == 1):\n",
    "        return False\n",
    "    else:\n",
    "        return True\n",
    "\n",
    "multi = movies.homepage.dropna().apply(multi_home) # leviamo valori nulli altrimenti non sarebbe possibile applicare la funzione\n",
    "\n",
    "# output\n",
    "display(Markdown(\"<br>Film con più homepage:\"),\n",
    "        movies.homepage.dropna()[multi].reset_index(), # reset_index() per mostrare in formato tabellare\n",
    "        Markdown(\"<br>\"))"
   ]
  },
  {
   "cell_type": "code",
   "execution_count": 9,
   "metadata": {},
   "outputs": [
    {
     "data": {
      "text/markdown": [
       "<br>È possibile notare come siano presenti sia valori nulli (es. riga 3725)                  che doppie homepage (es. riga 3730):"
      ],
      "text/plain": [
       "<IPython.core.display.Markdown object>"
      ]
     },
     "metadata": {},
     "output_type": "display_data"
    },
    {
     "data": {
      "text/html": [
       "<div>\n",
       "<style scoped>\n",
       "    .dataframe tbody tr th:only-of-type {\n",
       "        vertical-align: middle;\n",
       "    }\n",
       "\n",
       "    .dataframe tbody tr th {\n",
       "        vertical-align: top;\n",
       "    }\n",
       "\n",
       "    .dataframe thead th {\n",
       "        text-align: right;\n",
       "    }\n",
       "</style>\n",
       "<table border=\"1\" class=\"dataframe\">\n",
       "  <thead>\n",
       "    <tr style=\"text-align: right;\">\n",
       "      <th></th>\n",
       "      <th>homepage</th>\n",
       "    </tr>\n",
       "  </thead>\n",
       "  <tbody>\n",
       "    <tr>\n",
       "      <th>3725</th>\n",
       "      <td>NaN</td>\n",
       "    </tr>\n",
       "    <tr>\n",
       "      <th>3726</th>\n",
       "      <td>NaN</td>\n",
       "    </tr>\n",
       "    <tr>\n",
       "      <th>3727</th>\n",
       "      <td>http://www.filmensnabbacash.se/</td>\n",
       "    </tr>\n",
       "    <tr>\n",
       "      <th>3728</th>\n",
       "      <td>http://www.whaleriderthemovie.com/</td>\n",
       "    </tr>\n",
       "    <tr>\n",
       "      <th>3729</th>\n",
       "      <td>http://www.paathefilm.com/</td>\n",
       "    </tr>\n",
       "    <tr>\n",
       "      <th>3730</th>\n",
       "      <td>http://www.cargoderfilm.ch http://cargothemovi...</td>\n",
       "    </tr>\n",
       "    <tr>\n",
       "      <th>3731</th>\n",
       "      <td>http://tv.disney.go.com/disneychannel/original...</td>\n",
       "    </tr>\n",
       "    <tr>\n",
       "      <th>3732</th>\n",
       "      <td>NaN</td>\n",
       "    </tr>\n",
       "    <tr>\n",
       "      <th>3733</th>\n",
       "      <td>NaN</td>\n",
       "    </tr>\n",
       "    <tr>\n",
       "      <th>3734</th>\n",
       "      <td>http://www.miramax.com/movie/the-crying-game/</td>\n",
       "    </tr>\n",
       "  </tbody>\n",
       "</table>\n",
       "</div>"
      ],
      "text/plain": [
       "                                               homepage\n",
       "3725                                                NaN\n",
       "3726                                                NaN\n",
       "3727                    http://www.filmensnabbacash.se/\n",
       "3728                 http://www.whaleriderthemovie.com/\n",
       "3729                         http://www.paathefilm.com/\n",
       "3730  http://www.cargoderfilm.ch http://cargothemovi...\n",
       "3731  http://tv.disney.go.com/disneychannel/original...\n",
       "3732                                                NaN\n",
       "3733                                                NaN\n",
       "3734      http://www.miramax.com/movie/the-crying-game/"
      ]
     },
     "metadata": {},
     "output_type": "display_data"
    }
   ],
   "source": [
    "display(Markdown(\"<br>È possibile notare come siano presenti sia valori nulli (es. riga 3725) \\\n",
    "                 che doppie homepage (es. riga 3730):\"),\n",
    "        movies[['homepage']][3725:3735])# notiamo che ci sono valori nulli e possono essere presenti più homepage (doppia quadra per vedere come dataframe)"
   ]
  },
  {
   "cell_type": "code",
   "execution_count": 10,
   "metadata": {},
   "outputs": [
    {
     "data": {
      "text/markdown": [
       "<br>**Dominio per ogni homepage**, con presenza di doppie homepage (3730 - Cargo) e valori nulli                   con la possibilità di rimuovere questi ultimi tramite l'utilizzo di *dropna()*"
      ],
      "text/plain": [
       "<IPython.core.display.Markdown object>"
      ]
     },
     "metadata": {},
     "output_type": "display_data"
    },
    {
     "data": {
      "text/html": [
       "<div>\n",
       "<style scoped>\n",
       "    .dataframe tbody tr th:only-of-type {\n",
       "        vertical-align: middle;\n",
       "    }\n",
       "\n",
       "    .dataframe tbody tr th {\n",
       "        vertical-align: top;\n",
       "    }\n",
       "\n",
       "    .dataframe thead th {\n",
       "        text-align: right;\n",
       "    }\n",
       "</style>\n",
       "<table border=\"1\" class=\"dataframe\">\n",
       "  <thead>\n",
       "    <tr style=\"text-align: right;\">\n",
       "      <th></th>\n",
       "      <th>title</th>\n",
       "      <th>homepage</th>\n",
       "      <th>domain</th>\n",
       "    </tr>\n",
       "  </thead>\n",
       "  <tbody>\n",
       "    <tr>\n",
       "      <th>3725</th>\n",
       "      <td>The Sweeney</td>\n",
       "      <td>NaN</td>\n",
       "      <td>NaN</td>\n",
       "    </tr>\n",
       "    <tr>\n",
       "      <th>3726</th>\n",
       "      <td>Sexy Beast</td>\n",
       "      <td>NaN</td>\n",
       "      <td>NaN</td>\n",
       "    </tr>\n",
       "    <tr>\n",
       "      <th>3727</th>\n",
       "      <td>Easy Money</td>\n",
       "      <td>http://www.filmensnabbacash.se/</td>\n",
       "      <td>www.filmensnabbacash.se</td>\n",
       "    </tr>\n",
       "    <tr>\n",
       "      <th>3728</th>\n",
       "      <td>Whale Rider</td>\n",
       "      <td>http://www.whaleriderthemovie.com/</td>\n",
       "      <td>www.whaleriderthemovie.com</td>\n",
       "    </tr>\n",
       "    <tr>\n",
       "      <th>3729</th>\n",
       "      <td>Paa</td>\n",
       "      <td>http://www.paathefilm.com/</td>\n",
       "      <td>www.paathefilm.com</td>\n",
       "    </tr>\n",
       "    <tr>\n",
       "      <th>3730</th>\n",
       "      <td>Cargo</td>\n",
       "      <td>http://www.cargoderfilm.ch http://cargothemovi...</td>\n",
       "      <td>www.cargoderfilm.ch, cargothemovie.com</td>\n",
       "    </tr>\n",
       "    <tr>\n",
       "      <th>3731</th>\n",
       "      <td>High School Musical</td>\n",
       "      <td>http://tv.disney.go.com/disneychannel/original...</td>\n",
       "      <td>tv.disney.go.com</td>\n",
       "    </tr>\n",
       "    <tr>\n",
       "      <th>3732</th>\n",
       "      <td>Love and Death on Long Island</td>\n",
       "      <td>NaN</td>\n",
       "      <td>NaN</td>\n",
       "    </tr>\n",
       "    <tr>\n",
       "      <th>3733</th>\n",
       "      <td>Night Watch</td>\n",
       "      <td>NaN</td>\n",
       "      <td>NaN</td>\n",
       "    </tr>\n",
       "    <tr>\n",
       "      <th>3734</th>\n",
       "      <td>The Crying Game</td>\n",
       "      <td>http://www.miramax.com/movie/the-crying-game/</td>\n",
       "      <td>www.miramax.com</td>\n",
       "    </tr>\n",
       "  </tbody>\n",
       "</table>\n",
       "</div>"
      ],
      "text/plain": [
       "                              title  \\\n",
       "3725                    The Sweeney   \n",
       "3726                     Sexy Beast   \n",
       "3727                     Easy Money   \n",
       "3728                    Whale Rider   \n",
       "3729                            Paa   \n",
       "3730                          Cargo   \n",
       "3731            High School Musical   \n",
       "3732  Love and Death on Long Island   \n",
       "3733                    Night Watch   \n",
       "3734                The Crying Game   \n",
       "\n",
       "                                               homepage  \\\n",
       "3725                                                NaN   \n",
       "3726                                                NaN   \n",
       "3727                    http://www.filmensnabbacash.se/   \n",
       "3728                 http://www.whaleriderthemovie.com/   \n",
       "3729                         http://www.paathefilm.com/   \n",
       "3730  http://www.cargoderfilm.ch http://cargothemovi...   \n",
       "3731  http://tv.disney.go.com/disneychannel/original...   \n",
       "3732                                                NaN   \n",
       "3733                                                NaN   \n",
       "3734      http://www.miramax.com/movie/the-crying-game/   \n",
       "\n",
       "                                      domain  \n",
       "3725                                     NaN  \n",
       "3726                                     NaN  \n",
       "3727                 www.filmensnabbacash.se  \n",
       "3728              www.whaleriderthemovie.com  \n",
       "3729                      www.paathefilm.com  \n",
       "3730  www.cargoderfilm.ch, cargothemovie.com  \n",
       "3731                        tv.disney.go.com  \n",
       "3732                                     NaN  \n",
       "3733                                     NaN  \n",
       "3734                         www.miramax.com  "
      ]
     },
     "metadata": {},
     "output_type": "display_data"
    }
   ],
   "source": [
    "def domain(url):\n",
    "    x = []\n",
    "    if (pd.isnull(url)): # se non abbiamo homepage il dominio sarà NaN\n",
    "        return np.nan\n",
    "    else:\n",
    "        home = url.split(' ') # nel caso sia presente più di una homepage, vedere caso 3730: Cargo\n",
    "        for i in range(len(home)):\n",
    "            dom = re.findall(r'[\\w\\-+.]+', home[i]) # in dom[0] sarà presente http..., in dom[1] il dominio effettivo\n",
    "            x.append(dom[1])\n",
    "        return str(x)[1:-1].replace(\"'\",\"\") # trasformo in stringa levo parentesi quadre ([1:-1]) e apici con replace(). [2:-2] NO causa multiple homepage\n",
    "    \n",
    "movies['domain'] = movies['homepage'].apply(domain)\n",
    "\n",
    "# output\n",
    "display(Markdown(\"<br>**Dominio per ogni homepage**, con presenza di doppie homepage (3730 - Cargo) e valori nulli \\\n",
    "                  con la possibilità di rimuovere questi ultimi tramite l'utilizzo di *dropna()*\"),\n",
    "        movies[['title','homepage','domain']][3725:3735])"
   ]
  },
  {
   "cell_type": "markdown",
   "metadata": {},
   "source": [
    "<br>\n",
    "## 5 - Extract a set of normalized tables. That is, each entry of a normalized table must contain exactly one value (not a list or a dictionary). There is no need to use SQL for this point"
   ]
  },
  {
   "cell_type": "code",
   "execution_count": 11,
   "metadata": {},
   "outputs": [
    {
     "name": "stdout",
     "output_type": "stream",
     "text": [
      "\u001b[1m ------------------------------------CREDITS------------------------------------- \u001b[0;0m\n",
      "Column to normalize:  cast\n",
      "Column to normalize:  crew\n",
      "\n",
      " \u001b[1m -------------------------------------MOVIES------------------------------------- \u001b[0;0m\n",
      "Column to normalize:  genres\n",
      "Column to normalize:  keywords\n",
      "Column to normalize:  production_companies\n",
      "Column to normalize:  production_countries\n",
      "Column to normalize:  spoken_languages\n"
     ]
    }
   ],
   "source": [
    "bold = \"\\033[1m\"\n",
    "reset = \"\\033[0;0m\"\n",
    "\n",
    "# vediamo quali colonne normalizzare in credits\n",
    "print(bold, \"CREDITS\".center(80,\"-\"), reset)\n",
    "for col in credits.columns:\n",
    "    check = credits[col][0]   \n",
    "    try:\n",
    "        check = credits[col].apply(json.loads)\n",
    "        print(\"Column to normalize: \", col)\n",
    "    except:\n",
    "        #print(\"Column OK: \", col)\n",
    "        pass\n",
    "\n",
    "# vediamo quali colonne normalizzare in movies\n",
    "print(\"\\n\", bold, \"MOVIES\".center(80,\"-\"), reset)\n",
    "for col in movies.columns:\n",
    "    check = movies[col][0]   \n",
    "    try:\n",
    "        check = movies[col].apply(json.loads)\n",
    "        print(\"Column to normalize: \", col)\n",
    "    except:\n",
    "        #print(\"Column OK: \", col)\n",
    "        pass"
   ]
  },
  {
   "cell_type": "code",
   "execution_count": 12,
   "metadata": {},
   "outputs": [],
   "source": [
    "def norm(col, df_start, key): # funzione per normalizzare\n",
    "    col_values = df_start[col].apply(json.loads) # series che contiene in ogni riga il json decodificato (4803 righe)\n",
    "    df_final = pd.DataFrame()\n",
    "    for i in np.arange(len(df_start)):\n",
    "        df = pd.DataFrame(col_values[i]) # per ogni lista creata: col_values[i], creiamo dataframe (estraiamo righe da json)\n",
    "        df['movie_id'] = df_start[key][i] # aggiungiamo colonna 'movie_id' con il valore corrispondente\n",
    "        df_final = pd.concat([df_final, df]) # concateniamo i vari datframe creati\n",
    "    df_final = df_final.reset_index(drop=True) # resettiamo indice\n",
    "    return df_final"
   ]
  },
  {
   "cell_type": "code",
   "execution_count": 13,
   "metadata": {},
   "outputs": [],
   "source": [
    "###### NORMALIZZAZIONE #######\n",
    "\n",
    "#credits2 = credits[['movie_id', 'cast_members']].copy() # copy() per evitare SettingWithCopyWarning\n",
    "movies2 = movies[['id', 'budget', 'homepage', 'domain', 'original_language', 'original_title',\n",
    "                  'overview', 'popularity', 'release_date', 'year', 'revenue', 'runtime',\n",
    "                  'status', 'tagline', 'title', 'vote_average', 'vote_count']].copy() # copy() per evitare SettingWithCopyWarning\n",
    "#movies2 = pd.merge(movies2, credits2, on = 'movie_id') # per appendere cast_member alla tabella movies2\n",
    "movies2 = movies2.rename(index = str, columns={'id':'movie_id'}) # rinomino attributo\n",
    "\n",
    "cast = norm(\"cast\", credits, \"movie_id\")\n",
    "crew = norm(\"crew\", credits, \"movie_id\")\n",
    "\n",
    "#cast['name'][0]\n",
    "#for elem in cast['name']:\n",
    "#    for elem2 in crew['name']:\n",
    "#        if (elem==elem2):\n",
    "#            print (elem)\n",
    "#            break\n",
    "\n",
    "# possono esserci stesse persone in cast e crew\n",
    "#cast[cast['name']==\"Stan Lee\"]\n",
    "#crew[crew['name']==\"Stan Lee\"]\n",
    "\n",
    "actor = pd.concat([cast[['id', 'gender', 'name']], crew[['id', 'gender', 'name']]]).drop_duplicates().reset_index(drop=True) # concateniamo ed eliminiamo persone duplicate\n",
    "cast = cast[['credit_id', 'cast_id', 'id', 'movie_id', 'character', 'order']] # norm\n",
    "crew = crew[['credit_id', 'id', 'movie_id', 'department', 'job']] # norm\n",
    "\n",
    "genres_id = norm(\"genres\", movies, \"id\")\n",
    "genres = genres_id[['id', 'name']].drop_duplicates().reset_index(drop=True)\n",
    "genres_id = genres_id[['movie_id', 'id']]\n",
    "\n",
    "keywords_id = norm(\"keywords\", movies, \"id\")\n",
    "keywords = keywords_id[['id', 'name']].drop_duplicates().reset_index(drop=True)\n",
    "keywords_id = keywords_id[['movie_id', 'id']]\n",
    "\n",
    "production_companies_id = norm(\"production_companies\", movies, \"id\")\n",
    "production_companies = production_companies_id[['id', 'name']].drop_duplicates().reset_index(drop=True)\n",
    "production_companies_id = production_companies_id[['movie_id', 'id']]\n",
    "\n",
    "production_countries_id = norm(\"production_countries\", movies, \"id\")\n",
    "production_countries = production_countries_id[['iso_3166_1', 'name']].drop_duplicates().reset_index(drop=True)\n",
    "production_countries_id = production_countries_id[['movie_id', 'iso_3166_1']]\n",
    "\n",
    "spoken_languages_id = norm(\"spoken_languages\", movies, \"id\")\n",
    "spoken_languages = spoken_languages_id[['iso_639_1', 'name']].drop_duplicates().reset_index(drop=True)\n",
    "spoken_languages_id = spoken_languages_id[['movie_id', 'iso_639_1']]"
   ]
  },
  {
   "cell_type": "code",
   "execution_count": 14,
   "metadata": {},
   "outputs": [
    {
     "data": {
      "text/markdown": [
       "## Tabelle normalizzate:"
      ],
      "text/plain": [
       "<IPython.core.display.Markdown object>"
      ]
     },
     "metadata": {},
     "output_type": "display_data"
    },
    {
     "data": {
      "text/markdown": [
       "### Movies"
      ],
      "text/plain": [
       "<IPython.core.display.Markdown object>"
      ]
     },
     "metadata": {},
     "output_type": "display_data"
    },
    {
     "data": {
      "text/html": [
       "<div>\n",
       "<style scoped>\n",
       "    .dataframe tbody tr th:only-of-type {\n",
       "        vertical-align: middle;\n",
       "    }\n",
       "\n",
       "    .dataframe tbody tr th {\n",
       "        vertical-align: top;\n",
       "    }\n",
       "\n",
       "    .dataframe thead th {\n",
       "        text-align: right;\n",
       "    }\n",
       "</style>\n",
       "<table border=\"1\" class=\"dataframe\">\n",
       "  <thead>\n",
       "    <tr style=\"text-align: right;\">\n",
       "      <th></th>\n",
       "      <th>movie_id</th>\n",
       "      <th>budget</th>\n",
       "      <th>homepage</th>\n",
       "      <th>domain</th>\n",
       "      <th>original_language</th>\n",
       "      <th>original_title</th>\n",
       "      <th>overview</th>\n",
       "      <th>popularity</th>\n",
       "      <th>release_date</th>\n",
       "      <th>year</th>\n",
       "      <th>revenue</th>\n",
       "      <th>runtime</th>\n",
       "      <th>status</th>\n",
       "      <th>tagline</th>\n",
       "      <th>title</th>\n",
       "      <th>vote_average</th>\n",
       "      <th>vote_count</th>\n",
       "    </tr>\n",
       "  </thead>\n",
       "  <tbody>\n",
       "    <tr>\n",
       "      <th>0</th>\n",
       "      <td>19995</td>\n",
       "      <td>237000000</td>\n",
       "      <td>http://www.avatarmovie.com/</td>\n",
       "      <td>www.avatarmovie.com</td>\n",
       "      <td>en</td>\n",
       "      <td>Avatar</td>\n",
       "      <td>In the 22nd century, a paraplegic Marine is di...</td>\n",
       "      <td>150.437577</td>\n",
       "      <td>2009-12-10</td>\n",
       "      <td>2009.0</td>\n",
       "      <td>2787965087</td>\n",
       "      <td>162.0</td>\n",
       "      <td>Released</td>\n",
       "      <td>Enter the World of Pandora.</td>\n",
       "      <td>Avatar</td>\n",
       "      <td>7.2</td>\n",
       "      <td>11800</td>\n",
       "    </tr>\n",
       "    <tr>\n",
       "      <th>1</th>\n",
       "      <td>285</td>\n",
       "      <td>300000000</td>\n",
       "      <td>http://disney.go.com/disneypictures/pirates/</td>\n",
       "      <td>disney.go.com</td>\n",
       "      <td>en</td>\n",
       "      <td>Pirates of the Caribbean: At World's End</td>\n",
       "      <td>Captain Barbossa, long believed to be dead, ha...</td>\n",
       "      <td>139.082615</td>\n",
       "      <td>2007-05-19</td>\n",
       "      <td>2007.0</td>\n",
       "      <td>961000000</td>\n",
       "      <td>169.0</td>\n",
       "      <td>Released</td>\n",
       "      <td>At the end of the world, the adventure begins.</td>\n",
       "      <td>Pirates of the Caribbean: At World's End</td>\n",
       "      <td>6.9</td>\n",
       "      <td>4500</td>\n",
       "    </tr>\n",
       "    <tr>\n",
       "      <th>2</th>\n",
       "      <td>206647</td>\n",
       "      <td>245000000</td>\n",
       "      <td>http://www.sonypictures.com/movies/spectre/</td>\n",
       "      <td>www.sonypictures.com</td>\n",
       "      <td>en</td>\n",
       "      <td>Spectre</td>\n",
       "      <td>A cryptic message from Bond’s past sends him o...</td>\n",
       "      <td>107.376788</td>\n",
       "      <td>2015-10-26</td>\n",
       "      <td>2015.0</td>\n",
       "      <td>880674609</td>\n",
       "      <td>148.0</td>\n",
       "      <td>Released</td>\n",
       "      <td>A Plan No One Escapes</td>\n",
       "      <td>Spectre</td>\n",
       "      <td>6.3</td>\n",
       "      <td>4466</td>\n",
       "    </tr>\n",
       "  </tbody>\n",
       "</table>\n",
       "</div>"
      ],
      "text/plain": [
       "   movie_id     budget                                      homepage  \\\n",
       "0     19995  237000000                   http://www.avatarmovie.com/   \n",
       "1       285  300000000  http://disney.go.com/disneypictures/pirates/   \n",
       "2    206647  245000000   http://www.sonypictures.com/movies/spectre/   \n",
       "\n",
       "                 domain original_language  \\\n",
       "0   www.avatarmovie.com                en   \n",
       "1         disney.go.com                en   \n",
       "2  www.sonypictures.com                en   \n",
       "\n",
       "                             original_title  \\\n",
       "0                                    Avatar   \n",
       "1  Pirates of the Caribbean: At World's End   \n",
       "2                                   Spectre   \n",
       "\n",
       "                                            overview  popularity release_date  \\\n",
       "0  In the 22nd century, a paraplegic Marine is di...  150.437577   2009-12-10   \n",
       "1  Captain Barbossa, long believed to be dead, ha...  139.082615   2007-05-19   \n",
       "2  A cryptic message from Bond’s past sends him o...  107.376788   2015-10-26   \n",
       "\n",
       "     year     revenue  runtime    status  \\\n",
       "0  2009.0  2787965087    162.0  Released   \n",
       "1  2007.0   961000000    169.0  Released   \n",
       "2  2015.0   880674609    148.0  Released   \n",
       "\n",
       "                                          tagline  \\\n",
       "0                     Enter the World of Pandora.   \n",
       "1  At the end of the world, the adventure begins.   \n",
       "2                           A Plan No One Escapes   \n",
       "\n",
       "                                      title  vote_average  vote_count  \n",
       "0                                    Avatar           7.2       11800  \n",
       "1  Pirates of the Caribbean: At World's End           6.9        4500  \n",
       "2                                   Spectre           6.3        4466  "
      ]
     },
     "metadata": {},
     "output_type": "display_data"
    },
    {
     "data": {
      "text/plain": [
       "(4803, 17)"
      ]
     },
     "metadata": {},
     "output_type": "display_data"
    },
    {
     "data": {
      "text/markdown": [
       "### Cast"
      ],
      "text/plain": [
       "<IPython.core.display.Markdown object>"
      ]
     },
     "metadata": {},
     "output_type": "display_data"
    },
    {
     "data": {
      "text/html": [
       "<div>\n",
       "<style scoped>\n",
       "    .dataframe tbody tr th:only-of-type {\n",
       "        vertical-align: middle;\n",
       "    }\n",
       "\n",
       "    .dataframe tbody tr th {\n",
       "        vertical-align: top;\n",
       "    }\n",
       "\n",
       "    .dataframe thead th {\n",
       "        text-align: right;\n",
       "    }\n",
       "</style>\n",
       "<table border=\"1\" class=\"dataframe\">\n",
       "  <thead>\n",
       "    <tr style=\"text-align: right;\">\n",
       "      <th></th>\n",
       "      <th>credit_id</th>\n",
       "      <th>cast_id</th>\n",
       "      <th>id</th>\n",
       "      <th>movie_id</th>\n",
       "      <th>character</th>\n",
       "      <th>order</th>\n",
       "    </tr>\n",
       "  </thead>\n",
       "  <tbody>\n",
       "    <tr>\n",
       "      <th>0</th>\n",
       "      <td>5602a8a7c3a3685532001c9a</td>\n",
       "      <td>242.0</td>\n",
       "      <td>65731.0</td>\n",
       "      <td>19995</td>\n",
       "      <td>Jake Sully</td>\n",
       "      <td>0.0</td>\n",
       "    </tr>\n",
       "    <tr>\n",
       "      <th>1</th>\n",
       "      <td>52fe48009251416c750ac9cb</td>\n",
       "      <td>3.0</td>\n",
       "      <td>8691.0</td>\n",
       "      <td>19995</td>\n",
       "      <td>Neytiri</td>\n",
       "      <td>1.0</td>\n",
       "    </tr>\n",
       "    <tr>\n",
       "      <th>2</th>\n",
       "      <td>52fe48009251416c750aca39</td>\n",
       "      <td>25.0</td>\n",
       "      <td>10205.0</td>\n",
       "      <td>19995</td>\n",
       "      <td>Dr. Grace Augustine</td>\n",
       "      <td>2.0</td>\n",
       "    </tr>\n",
       "    <tr>\n",
       "      <th>3</th>\n",
       "      <td>52fe48009251416c750ac9cf</td>\n",
       "      <td>4.0</td>\n",
       "      <td>32747.0</td>\n",
       "      <td>19995</td>\n",
       "      <td>Col. Quaritch</td>\n",
       "      <td>3.0</td>\n",
       "    </tr>\n",
       "    <tr>\n",
       "      <th>4</th>\n",
       "      <td>52fe48009251416c750ac9d3</td>\n",
       "      <td>5.0</td>\n",
       "      <td>17647.0</td>\n",
       "      <td>19995</td>\n",
       "      <td>Trudy Chacon</td>\n",
       "      <td>4.0</td>\n",
       "    </tr>\n",
       "  </tbody>\n",
       "</table>\n",
       "</div>"
      ],
      "text/plain": [
       "                  credit_id  cast_id       id  movie_id            character  \\\n",
       "0  5602a8a7c3a3685532001c9a    242.0  65731.0     19995           Jake Sully   \n",
       "1  52fe48009251416c750ac9cb      3.0   8691.0     19995              Neytiri   \n",
       "2  52fe48009251416c750aca39     25.0  10205.0     19995  Dr. Grace Augustine   \n",
       "3  52fe48009251416c750ac9cf      4.0  32747.0     19995        Col. Quaritch   \n",
       "4  52fe48009251416c750ac9d3      5.0  17647.0     19995         Trudy Chacon   \n",
       "\n",
       "   order  \n",
       "0    0.0  \n",
       "1    1.0  \n",
       "2    2.0  \n",
       "3    3.0  \n",
       "4    4.0  "
      ]
     },
     "metadata": {},
     "output_type": "display_data"
    },
    {
     "data": {
      "text/plain": [
       "(106257, 6)"
      ]
     },
     "metadata": {},
     "output_type": "display_data"
    },
    {
     "data": {
      "text/markdown": [
       "### Crew"
      ],
      "text/plain": [
       "<IPython.core.display.Markdown object>"
      ]
     },
     "metadata": {},
     "output_type": "display_data"
    },
    {
     "data": {
      "text/html": [
       "<div>\n",
       "<style scoped>\n",
       "    .dataframe tbody tr th:only-of-type {\n",
       "        vertical-align: middle;\n",
       "    }\n",
       "\n",
       "    .dataframe tbody tr th {\n",
       "        vertical-align: top;\n",
       "    }\n",
       "\n",
       "    .dataframe thead th {\n",
       "        text-align: right;\n",
       "    }\n",
       "</style>\n",
       "<table border=\"1\" class=\"dataframe\">\n",
       "  <thead>\n",
       "    <tr style=\"text-align: right;\">\n",
       "      <th></th>\n",
       "      <th>credit_id</th>\n",
       "      <th>id</th>\n",
       "      <th>movie_id</th>\n",
       "      <th>department</th>\n",
       "      <th>job</th>\n",
       "    </tr>\n",
       "  </thead>\n",
       "  <tbody>\n",
       "    <tr>\n",
       "      <th>0</th>\n",
       "      <td>52fe48009251416c750aca23</td>\n",
       "      <td>1721.0</td>\n",
       "      <td>19995</td>\n",
       "      <td>Editing</td>\n",
       "      <td>Editor</td>\n",
       "    </tr>\n",
       "    <tr>\n",
       "      <th>1</th>\n",
       "      <td>539c47ecc3a36810e3001f87</td>\n",
       "      <td>496.0</td>\n",
       "      <td>19995</td>\n",
       "      <td>Art</td>\n",
       "      <td>Production Design</td>\n",
       "    </tr>\n",
       "    <tr>\n",
       "      <th>2</th>\n",
       "      <td>54491c89c3a3680fb4001cf7</td>\n",
       "      <td>900.0</td>\n",
       "      <td>19995</td>\n",
       "      <td>Sound</td>\n",
       "      <td>Sound Designer</td>\n",
       "    </tr>\n",
       "    <tr>\n",
       "      <th>3</th>\n",
       "      <td>54491cb70e0a267480001bd0</td>\n",
       "      <td>900.0</td>\n",
       "      <td>19995</td>\n",
       "      <td>Sound</td>\n",
       "      <td>Supervising Sound Editor</td>\n",
       "    </tr>\n",
       "    <tr>\n",
       "      <th>4</th>\n",
       "      <td>539c4a4cc3a36810c9002101</td>\n",
       "      <td>1262.0</td>\n",
       "      <td>19995</td>\n",
       "      <td>Production</td>\n",
       "      <td>Casting</td>\n",
       "    </tr>\n",
       "  </tbody>\n",
       "</table>\n",
       "</div>"
      ],
      "text/plain": [
       "                  credit_id      id  movie_id  department  \\\n",
       "0  52fe48009251416c750aca23  1721.0     19995     Editing   \n",
       "1  539c47ecc3a36810e3001f87   496.0     19995         Art   \n",
       "2  54491c89c3a3680fb4001cf7   900.0     19995       Sound   \n",
       "3  54491cb70e0a267480001bd0   900.0     19995       Sound   \n",
       "4  539c4a4cc3a36810c9002101  1262.0     19995  Production   \n",
       "\n",
       "                        job  \n",
       "0                    Editor  \n",
       "1         Production Design  \n",
       "2            Sound Designer  \n",
       "3  Supervising Sound Editor  \n",
       "4                   Casting  "
      ]
     },
     "metadata": {},
     "output_type": "display_data"
    },
    {
     "data": {
      "text/plain": [
       "(129581, 5)"
      ]
     },
     "metadata": {},
     "output_type": "display_data"
    },
    {
     "data": {
      "text/markdown": [
       "### Actor"
      ],
      "text/plain": [
       "<IPython.core.display.Markdown object>"
      ]
     },
     "metadata": {},
     "output_type": "display_data"
    },
    {
     "data": {
      "text/html": [
       "<div>\n",
       "<style scoped>\n",
       "    .dataframe tbody tr th:only-of-type {\n",
       "        vertical-align: middle;\n",
       "    }\n",
       "\n",
       "    .dataframe tbody tr th {\n",
       "        vertical-align: top;\n",
       "    }\n",
       "\n",
       "    .dataframe thead th {\n",
       "        text-align: right;\n",
       "    }\n",
       "</style>\n",
       "<table border=\"1\" class=\"dataframe\">\n",
       "  <thead>\n",
       "    <tr style=\"text-align: right;\">\n",
       "      <th></th>\n",
       "      <th>id</th>\n",
       "      <th>gender</th>\n",
       "      <th>name</th>\n",
       "    </tr>\n",
       "  </thead>\n",
       "  <tbody>\n",
       "    <tr>\n",
       "      <th>0</th>\n",
       "      <td>65731.0</td>\n",
       "      <td>2.0</td>\n",
       "      <td>Sam Worthington</td>\n",
       "    </tr>\n",
       "    <tr>\n",
       "      <th>1</th>\n",
       "      <td>8691.0</td>\n",
       "      <td>1.0</td>\n",
       "      <td>Zoe Saldana</td>\n",
       "    </tr>\n",
       "    <tr>\n",
       "      <th>2</th>\n",
       "      <td>10205.0</td>\n",
       "      <td>1.0</td>\n",
       "      <td>Sigourney Weaver</td>\n",
       "    </tr>\n",
       "    <tr>\n",
       "      <th>3</th>\n",
       "      <td>32747.0</td>\n",
       "      <td>2.0</td>\n",
       "      <td>Stephen Lang</td>\n",
       "    </tr>\n",
       "    <tr>\n",
       "      <th>4</th>\n",
       "      <td>17647.0</td>\n",
       "      <td>1.0</td>\n",
       "      <td>Michelle Rodriguez</td>\n",
       "    </tr>\n",
       "  </tbody>\n",
       "</table>\n",
       "</div>"
      ],
      "text/plain": [
       "        id  gender                name\n",
       "0  65731.0     2.0     Sam Worthington\n",
       "1   8691.0     1.0         Zoe Saldana\n",
       "2  10205.0     1.0    Sigourney Weaver\n",
       "3  32747.0     2.0        Stephen Lang\n",
       "4  17647.0     1.0  Michelle Rodriguez"
      ]
     },
     "metadata": {},
     "output_type": "display_data"
    },
    {
     "data": {
      "text/plain": [
       "(104844, 3)"
      ]
     },
     "metadata": {},
     "output_type": "display_data"
    },
    {
     "data": {
      "text/markdown": [
       "### Genres ID"
      ],
      "text/plain": [
       "<IPython.core.display.Markdown object>"
      ]
     },
     "metadata": {},
     "output_type": "display_data"
    },
    {
     "data": {
      "text/html": [
       "<div>\n",
       "<style scoped>\n",
       "    .dataframe tbody tr th:only-of-type {\n",
       "        vertical-align: middle;\n",
       "    }\n",
       "\n",
       "    .dataframe tbody tr th {\n",
       "        vertical-align: top;\n",
       "    }\n",
       "\n",
       "    .dataframe thead th {\n",
       "        text-align: right;\n",
       "    }\n",
       "</style>\n",
       "<table border=\"1\" class=\"dataframe\">\n",
       "  <thead>\n",
       "    <tr style=\"text-align: right;\">\n",
       "      <th></th>\n",
       "      <th>movie_id</th>\n",
       "      <th>id</th>\n",
       "    </tr>\n",
       "  </thead>\n",
       "  <tbody>\n",
       "    <tr>\n",
       "      <th>0</th>\n",
       "      <td>19995</td>\n",
       "      <td>28.0</td>\n",
       "    </tr>\n",
       "    <tr>\n",
       "      <th>1</th>\n",
       "      <td>19995</td>\n",
       "      <td>12.0</td>\n",
       "    </tr>\n",
       "    <tr>\n",
       "      <th>2</th>\n",
       "      <td>19995</td>\n",
       "      <td>14.0</td>\n",
       "    </tr>\n",
       "    <tr>\n",
       "      <th>3</th>\n",
       "      <td>19995</td>\n",
       "      <td>878.0</td>\n",
       "    </tr>\n",
       "    <tr>\n",
       "      <th>4</th>\n",
       "      <td>285</td>\n",
       "      <td>12.0</td>\n",
       "    </tr>\n",
       "  </tbody>\n",
       "</table>\n",
       "</div>"
      ],
      "text/plain": [
       "   movie_id     id\n",
       "0     19995   28.0\n",
       "1     19995   12.0\n",
       "2     19995   14.0\n",
       "3     19995  878.0\n",
       "4       285   12.0"
      ]
     },
     "metadata": {},
     "output_type": "display_data"
    },
    {
     "data": {
      "text/plain": [
       "(12160, 2)"
      ]
     },
     "metadata": {},
     "output_type": "display_data"
    },
    {
     "data": {
      "text/markdown": [
       "### Genres"
      ],
      "text/plain": [
       "<IPython.core.display.Markdown object>"
      ]
     },
     "metadata": {},
     "output_type": "display_data"
    },
    {
     "data": {
      "text/html": [
       "<div>\n",
       "<style scoped>\n",
       "    .dataframe tbody tr th:only-of-type {\n",
       "        vertical-align: middle;\n",
       "    }\n",
       "\n",
       "    .dataframe tbody tr th {\n",
       "        vertical-align: top;\n",
       "    }\n",
       "\n",
       "    .dataframe thead th {\n",
       "        text-align: right;\n",
       "    }\n",
       "</style>\n",
       "<table border=\"1\" class=\"dataframe\">\n",
       "  <thead>\n",
       "    <tr style=\"text-align: right;\">\n",
       "      <th></th>\n",
       "      <th>id</th>\n",
       "      <th>name</th>\n",
       "    </tr>\n",
       "  </thead>\n",
       "  <tbody>\n",
       "    <tr>\n",
       "      <th>0</th>\n",
       "      <td>28.0</td>\n",
       "      <td>Action</td>\n",
       "    </tr>\n",
       "    <tr>\n",
       "      <th>1</th>\n",
       "      <td>12.0</td>\n",
       "      <td>Adventure</td>\n",
       "    </tr>\n",
       "    <tr>\n",
       "      <th>2</th>\n",
       "      <td>14.0</td>\n",
       "      <td>Fantasy</td>\n",
       "    </tr>\n",
       "    <tr>\n",
       "      <th>3</th>\n",
       "      <td>878.0</td>\n",
       "      <td>Science Fiction</td>\n",
       "    </tr>\n",
       "    <tr>\n",
       "      <th>4</th>\n",
       "      <td>80.0</td>\n",
       "      <td>Crime</td>\n",
       "    </tr>\n",
       "  </tbody>\n",
       "</table>\n",
       "</div>"
      ],
      "text/plain": [
       "      id             name\n",
       "0   28.0           Action\n",
       "1   12.0        Adventure\n",
       "2   14.0          Fantasy\n",
       "3  878.0  Science Fiction\n",
       "4   80.0            Crime"
      ]
     },
     "metadata": {},
     "output_type": "display_data"
    },
    {
     "data": {
      "text/plain": [
       "(20, 2)"
      ]
     },
     "metadata": {},
     "output_type": "display_data"
    },
    {
     "data": {
      "text/markdown": [
       "### Keywords ID"
      ],
      "text/plain": [
       "<IPython.core.display.Markdown object>"
      ]
     },
     "metadata": {},
     "output_type": "display_data"
    },
    {
     "data": {
      "text/html": [
       "<div>\n",
       "<style scoped>\n",
       "    .dataframe tbody tr th:only-of-type {\n",
       "        vertical-align: middle;\n",
       "    }\n",
       "\n",
       "    .dataframe tbody tr th {\n",
       "        vertical-align: top;\n",
       "    }\n",
       "\n",
       "    .dataframe thead th {\n",
       "        text-align: right;\n",
       "    }\n",
       "</style>\n",
       "<table border=\"1\" class=\"dataframe\">\n",
       "  <thead>\n",
       "    <tr style=\"text-align: right;\">\n",
       "      <th></th>\n",
       "      <th>movie_id</th>\n",
       "      <th>id</th>\n",
       "    </tr>\n",
       "  </thead>\n",
       "  <tbody>\n",
       "    <tr>\n",
       "      <th>0</th>\n",
       "      <td>19995</td>\n",
       "      <td>1463.0</td>\n",
       "    </tr>\n",
       "    <tr>\n",
       "      <th>1</th>\n",
       "      <td>19995</td>\n",
       "      <td>2964.0</td>\n",
       "    </tr>\n",
       "    <tr>\n",
       "      <th>2</th>\n",
       "      <td>19995</td>\n",
       "      <td>3386.0</td>\n",
       "    </tr>\n",
       "    <tr>\n",
       "      <th>3</th>\n",
       "      <td>19995</td>\n",
       "      <td>3388.0</td>\n",
       "    </tr>\n",
       "    <tr>\n",
       "      <th>4</th>\n",
       "      <td>19995</td>\n",
       "      <td>3679.0</td>\n",
       "    </tr>\n",
       "  </tbody>\n",
       "</table>\n",
       "</div>"
      ],
      "text/plain": [
       "   movie_id      id\n",
       "0     19995  1463.0\n",
       "1     19995  2964.0\n",
       "2     19995  3386.0\n",
       "3     19995  3388.0\n",
       "4     19995  3679.0"
      ]
     },
     "metadata": {},
     "output_type": "display_data"
    },
    {
     "data": {
      "text/plain": [
       "(36194, 2)"
      ]
     },
     "metadata": {},
     "output_type": "display_data"
    },
    {
     "data": {
      "text/markdown": [
       "### Keywords"
      ],
      "text/plain": [
       "<IPython.core.display.Markdown object>"
      ]
     },
     "metadata": {},
     "output_type": "display_data"
    },
    {
     "data": {
      "text/html": [
       "<div>\n",
       "<style scoped>\n",
       "    .dataframe tbody tr th:only-of-type {\n",
       "        vertical-align: middle;\n",
       "    }\n",
       "\n",
       "    .dataframe tbody tr th {\n",
       "        vertical-align: top;\n",
       "    }\n",
       "\n",
       "    .dataframe thead th {\n",
       "        text-align: right;\n",
       "    }\n",
       "</style>\n",
       "<table border=\"1\" class=\"dataframe\">\n",
       "  <thead>\n",
       "    <tr style=\"text-align: right;\">\n",
       "      <th></th>\n",
       "      <th>id</th>\n",
       "      <th>name</th>\n",
       "    </tr>\n",
       "  </thead>\n",
       "  <tbody>\n",
       "    <tr>\n",
       "      <th>0</th>\n",
       "      <td>1463.0</td>\n",
       "      <td>culture clash</td>\n",
       "    </tr>\n",
       "    <tr>\n",
       "      <th>1</th>\n",
       "      <td>2964.0</td>\n",
       "      <td>future</td>\n",
       "    </tr>\n",
       "    <tr>\n",
       "      <th>2</th>\n",
       "      <td>3386.0</td>\n",
       "      <td>space war</td>\n",
       "    </tr>\n",
       "    <tr>\n",
       "      <th>3</th>\n",
       "      <td>3388.0</td>\n",
       "      <td>space colony</td>\n",
       "    </tr>\n",
       "    <tr>\n",
       "      <th>4</th>\n",
       "      <td>3679.0</td>\n",
       "      <td>society</td>\n",
       "    </tr>\n",
       "  </tbody>\n",
       "</table>\n",
       "</div>"
      ],
      "text/plain": [
       "       id           name\n",
       "0  1463.0  culture clash\n",
       "1  2964.0         future\n",
       "2  3386.0      space war\n",
       "3  3388.0   space colony\n",
       "4  3679.0        society"
      ]
     },
     "metadata": {},
     "output_type": "display_data"
    },
    {
     "data": {
      "text/plain": [
       "(9813, 2)"
      ]
     },
     "metadata": {},
     "output_type": "display_data"
    },
    {
     "data": {
      "text/markdown": [
       "### Production Companies ID"
      ],
      "text/plain": [
       "<IPython.core.display.Markdown object>"
      ]
     },
     "metadata": {},
     "output_type": "display_data"
    },
    {
     "data": {
      "text/html": [
       "<div>\n",
       "<style scoped>\n",
       "    .dataframe tbody tr th:only-of-type {\n",
       "        vertical-align: middle;\n",
       "    }\n",
       "\n",
       "    .dataframe tbody tr th {\n",
       "        vertical-align: top;\n",
       "    }\n",
       "\n",
       "    .dataframe thead th {\n",
       "        text-align: right;\n",
       "    }\n",
       "</style>\n",
       "<table border=\"1\" class=\"dataframe\">\n",
       "  <thead>\n",
       "    <tr style=\"text-align: right;\">\n",
       "      <th></th>\n",
       "      <th>movie_id</th>\n",
       "      <th>id</th>\n",
       "    </tr>\n",
       "  </thead>\n",
       "  <tbody>\n",
       "    <tr>\n",
       "      <th>0</th>\n",
       "      <td>19995</td>\n",
       "      <td>289.0</td>\n",
       "    </tr>\n",
       "    <tr>\n",
       "      <th>1</th>\n",
       "      <td>19995</td>\n",
       "      <td>306.0</td>\n",
       "    </tr>\n",
       "    <tr>\n",
       "      <th>2</th>\n",
       "      <td>19995</td>\n",
       "      <td>444.0</td>\n",
       "    </tr>\n",
       "    <tr>\n",
       "      <th>3</th>\n",
       "      <td>19995</td>\n",
       "      <td>574.0</td>\n",
       "    </tr>\n",
       "    <tr>\n",
       "      <th>4</th>\n",
       "      <td>285</td>\n",
       "      <td>2.0</td>\n",
       "    </tr>\n",
       "  </tbody>\n",
       "</table>\n",
       "</div>"
      ],
      "text/plain": [
       "   movie_id     id\n",
       "0     19995  289.0\n",
       "1     19995  306.0\n",
       "2     19995  444.0\n",
       "3     19995  574.0\n",
       "4       285    2.0"
      ]
     },
     "metadata": {},
     "output_type": "display_data"
    },
    {
     "data": {
      "text/plain": [
       "(13677, 2)"
      ]
     },
     "metadata": {},
     "output_type": "display_data"
    },
    {
     "data": {
      "text/markdown": [
       "### Production Companies"
      ],
      "text/plain": [
       "<IPython.core.display.Markdown object>"
      ]
     },
     "metadata": {},
     "output_type": "display_data"
    },
    {
     "data": {
      "text/html": [
       "<div>\n",
       "<style scoped>\n",
       "    .dataframe tbody tr th:only-of-type {\n",
       "        vertical-align: middle;\n",
       "    }\n",
       "\n",
       "    .dataframe tbody tr th {\n",
       "        vertical-align: top;\n",
       "    }\n",
       "\n",
       "    .dataframe thead th {\n",
       "        text-align: right;\n",
       "    }\n",
       "</style>\n",
       "<table border=\"1\" class=\"dataframe\">\n",
       "  <thead>\n",
       "    <tr style=\"text-align: right;\">\n",
       "      <th></th>\n",
       "      <th>id</th>\n",
       "      <th>name</th>\n",
       "    </tr>\n",
       "  </thead>\n",
       "  <tbody>\n",
       "    <tr>\n",
       "      <th>0</th>\n",
       "      <td>289.0</td>\n",
       "      <td>Ingenious Film Partners</td>\n",
       "    </tr>\n",
       "    <tr>\n",
       "      <th>1</th>\n",
       "      <td>306.0</td>\n",
       "      <td>Twentieth Century Fox Film Corporation</td>\n",
       "    </tr>\n",
       "    <tr>\n",
       "      <th>2</th>\n",
       "      <td>444.0</td>\n",
       "      <td>Dune Entertainment</td>\n",
       "    </tr>\n",
       "    <tr>\n",
       "      <th>3</th>\n",
       "      <td>574.0</td>\n",
       "      <td>Lightstorm Entertainment</td>\n",
       "    </tr>\n",
       "    <tr>\n",
       "      <th>4</th>\n",
       "      <td>2.0</td>\n",
       "      <td>Walt Disney Pictures</td>\n",
       "    </tr>\n",
       "  </tbody>\n",
       "</table>\n",
       "</div>"
      ],
      "text/plain": [
       "      id                                    name\n",
       "0  289.0                 Ingenious Film Partners\n",
       "1  306.0  Twentieth Century Fox Film Corporation\n",
       "2  444.0                      Dune Entertainment\n",
       "3  574.0                Lightstorm Entertainment\n",
       "4    2.0                    Walt Disney Pictures"
      ]
     },
     "metadata": {},
     "output_type": "display_data"
    },
    {
     "data": {
      "text/plain": [
       "(5047, 2)"
      ]
     },
     "metadata": {},
     "output_type": "display_data"
    },
    {
     "data": {
      "text/markdown": [
       "### Production Countries ID"
      ],
      "text/plain": [
       "<IPython.core.display.Markdown object>"
      ]
     },
     "metadata": {},
     "output_type": "display_data"
    },
    {
     "data": {
      "text/html": [
       "<div>\n",
       "<style scoped>\n",
       "    .dataframe tbody tr th:only-of-type {\n",
       "        vertical-align: middle;\n",
       "    }\n",
       "\n",
       "    .dataframe tbody tr th {\n",
       "        vertical-align: top;\n",
       "    }\n",
       "\n",
       "    .dataframe thead th {\n",
       "        text-align: right;\n",
       "    }\n",
       "</style>\n",
       "<table border=\"1\" class=\"dataframe\">\n",
       "  <thead>\n",
       "    <tr style=\"text-align: right;\">\n",
       "      <th></th>\n",
       "      <th>movie_id</th>\n",
       "      <th>iso_3166_1</th>\n",
       "    </tr>\n",
       "  </thead>\n",
       "  <tbody>\n",
       "    <tr>\n",
       "      <th>0</th>\n",
       "      <td>19995</td>\n",
       "      <td>US</td>\n",
       "    </tr>\n",
       "    <tr>\n",
       "      <th>1</th>\n",
       "      <td>19995</td>\n",
       "      <td>GB</td>\n",
       "    </tr>\n",
       "    <tr>\n",
       "      <th>2</th>\n",
       "      <td>285</td>\n",
       "      <td>US</td>\n",
       "    </tr>\n",
       "    <tr>\n",
       "      <th>3</th>\n",
       "      <td>206647</td>\n",
       "      <td>GB</td>\n",
       "    </tr>\n",
       "    <tr>\n",
       "      <th>4</th>\n",
       "      <td>206647</td>\n",
       "      <td>US</td>\n",
       "    </tr>\n",
       "  </tbody>\n",
       "</table>\n",
       "</div>"
      ],
      "text/plain": [
       "   movie_id iso_3166_1\n",
       "0     19995         US\n",
       "1     19995         GB\n",
       "2       285         US\n",
       "3    206647         GB\n",
       "4    206647         US"
      ]
     },
     "metadata": {},
     "output_type": "display_data"
    },
    {
     "data": {
      "text/plain": [
       "(6436, 2)"
      ]
     },
     "metadata": {},
     "output_type": "display_data"
    },
    {
     "data": {
      "text/markdown": [
       "### Production Countries"
      ],
      "text/plain": [
       "<IPython.core.display.Markdown object>"
      ]
     },
     "metadata": {},
     "output_type": "display_data"
    },
    {
     "data": {
      "text/html": [
       "<div>\n",
       "<style scoped>\n",
       "    .dataframe tbody tr th:only-of-type {\n",
       "        vertical-align: middle;\n",
       "    }\n",
       "\n",
       "    .dataframe tbody tr th {\n",
       "        vertical-align: top;\n",
       "    }\n",
       "\n",
       "    .dataframe thead th {\n",
       "        text-align: right;\n",
       "    }\n",
       "</style>\n",
       "<table border=\"1\" class=\"dataframe\">\n",
       "  <thead>\n",
       "    <tr style=\"text-align: right;\">\n",
       "      <th></th>\n",
       "      <th>iso_3166_1</th>\n",
       "      <th>name</th>\n",
       "    </tr>\n",
       "  </thead>\n",
       "  <tbody>\n",
       "    <tr>\n",
       "      <th>0</th>\n",
       "      <td>US</td>\n",
       "      <td>United States of America</td>\n",
       "    </tr>\n",
       "    <tr>\n",
       "      <th>1</th>\n",
       "      <td>GB</td>\n",
       "      <td>United Kingdom</td>\n",
       "    </tr>\n",
       "    <tr>\n",
       "      <th>2</th>\n",
       "      <td>JM</td>\n",
       "      <td>Jamaica</td>\n",
       "    </tr>\n",
       "    <tr>\n",
       "      <th>3</th>\n",
       "      <td>BS</td>\n",
       "      <td>Bahamas</td>\n",
       "    </tr>\n",
       "    <tr>\n",
       "      <th>4</th>\n",
       "      <td>DM</td>\n",
       "      <td>Dominica</td>\n",
       "    </tr>\n",
       "  </tbody>\n",
       "</table>\n",
       "</div>"
      ],
      "text/plain": [
       "  iso_3166_1                      name\n",
       "0         US  United States of America\n",
       "1         GB            United Kingdom\n",
       "2         JM                   Jamaica\n",
       "3         BS                   Bahamas\n",
       "4         DM                  Dominica"
      ]
     },
     "metadata": {},
     "output_type": "display_data"
    },
    {
     "data": {
      "text/plain": [
       "(88, 2)"
      ]
     },
     "metadata": {},
     "output_type": "display_data"
    },
    {
     "data": {
      "text/markdown": [
       "### Spoken Languages ID"
      ],
      "text/plain": [
       "<IPython.core.display.Markdown object>"
      ]
     },
     "metadata": {},
     "output_type": "display_data"
    },
    {
     "data": {
      "text/html": [
       "<div>\n",
       "<style scoped>\n",
       "    .dataframe tbody tr th:only-of-type {\n",
       "        vertical-align: middle;\n",
       "    }\n",
       "\n",
       "    .dataframe tbody tr th {\n",
       "        vertical-align: top;\n",
       "    }\n",
       "\n",
       "    .dataframe thead th {\n",
       "        text-align: right;\n",
       "    }\n",
       "</style>\n",
       "<table border=\"1\" class=\"dataframe\">\n",
       "  <thead>\n",
       "    <tr style=\"text-align: right;\">\n",
       "      <th></th>\n",
       "      <th>movie_id</th>\n",
       "      <th>iso_639_1</th>\n",
       "    </tr>\n",
       "  </thead>\n",
       "  <tbody>\n",
       "    <tr>\n",
       "      <th>0</th>\n",
       "      <td>19995</td>\n",
       "      <td>en</td>\n",
       "    </tr>\n",
       "    <tr>\n",
       "      <th>1</th>\n",
       "      <td>19995</td>\n",
       "      <td>es</td>\n",
       "    </tr>\n",
       "    <tr>\n",
       "      <th>2</th>\n",
       "      <td>285</td>\n",
       "      <td>en</td>\n",
       "    </tr>\n",
       "    <tr>\n",
       "      <th>3</th>\n",
       "      <td>206647</td>\n",
       "      <td>fr</td>\n",
       "    </tr>\n",
       "    <tr>\n",
       "      <th>4</th>\n",
       "      <td>206647</td>\n",
       "      <td>en</td>\n",
       "    </tr>\n",
       "  </tbody>\n",
       "</table>\n",
       "</div>"
      ],
      "text/plain": [
       "   movie_id iso_639_1\n",
       "0     19995        en\n",
       "1     19995        es\n",
       "2       285        en\n",
       "3    206647        fr\n",
       "4    206647        en"
      ]
     },
     "metadata": {},
     "output_type": "display_data"
    },
    {
     "data": {
      "text/plain": [
       "(6937, 2)"
      ]
     },
     "metadata": {},
     "output_type": "display_data"
    },
    {
     "data": {
      "text/markdown": [
       "### Spoken Languages"
      ],
      "text/plain": [
       "<IPython.core.display.Markdown object>"
      ]
     },
     "metadata": {},
     "output_type": "display_data"
    },
    {
     "data": {
      "text/html": [
       "<div>\n",
       "<style scoped>\n",
       "    .dataframe tbody tr th:only-of-type {\n",
       "        vertical-align: middle;\n",
       "    }\n",
       "\n",
       "    .dataframe tbody tr th {\n",
       "        vertical-align: top;\n",
       "    }\n",
       "\n",
       "    .dataframe thead th {\n",
       "        text-align: right;\n",
       "    }\n",
       "</style>\n",
       "<table border=\"1\" class=\"dataframe\">\n",
       "  <thead>\n",
       "    <tr style=\"text-align: right;\">\n",
       "      <th></th>\n",
       "      <th>iso_639_1</th>\n",
       "      <th>name</th>\n",
       "    </tr>\n",
       "  </thead>\n",
       "  <tbody>\n",
       "    <tr>\n",
       "      <th>0</th>\n",
       "      <td>en</td>\n",
       "      <td>English</td>\n",
       "    </tr>\n",
       "    <tr>\n",
       "      <th>1</th>\n",
       "      <td>es</td>\n",
       "      <td>Español</td>\n",
       "    </tr>\n",
       "    <tr>\n",
       "      <th>2</th>\n",
       "      <td>fr</td>\n",
       "      <td>Français</td>\n",
       "    </tr>\n",
       "    <tr>\n",
       "      <th>3</th>\n",
       "      <td>it</td>\n",
       "      <td>Italiano</td>\n",
       "    </tr>\n",
       "    <tr>\n",
       "      <th>4</th>\n",
       "      <td>de</td>\n",
       "      <td>Deutsch</td>\n",
       "    </tr>\n",
       "  </tbody>\n",
       "</table>\n",
       "</div>"
      ],
      "text/plain": [
       "  iso_639_1      name\n",
       "0        en   English\n",
       "1        es   Español\n",
       "2        fr  Français\n",
       "3        it  Italiano\n",
       "4        de   Deutsch"
      ]
     },
     "metadata": {},
     "output_type": "display_data"
    },
    {
     "data": {
      "text/plain": [
       "(87, 2)"
      ]
     },
     "metadata": {},
     "output_type": "display_data"
    }
   ],
   "source": [
    "display(Markdown(\"## Tabelle normalizzate:\"),\n",
    "        Markdown(\"### Movies\"), movies2.head(3), movies2.shape,\n",
    "        #Markdown(\"### Credits\"), credits2.head(), credits2.shape,\n",
    "        Markdown(\"### Cast\"), cast.head(), cast.shape,\n",
    "        Markdown(\"### Crew\"), crew.head(), crew.shape,\n",
    "        Markdown(\"### Actor\"), actor.head(), actor.shape,\n",
    "        Markdown(\"### Genres ID\"), genres_id.head(), genres_id.shape,\n",
    "        Markdown(\"### Genres\"), genres.head(), genres.shape,\n",
    "        Markdown(\"### Keywords ID\"), keywords_id.head(), keywords_id.shape,\n",
    "        Markdown(\"### Keywords\"), keywords.head(), keywords.shape,\n",
    "        Markdown(\"### Production Companies ID\"), production_companies_id.head(), production_companies_id.shape,\n",
    "        Markdown(\"### Production Companies\"), production_companies.head(), production_companies.shape,\n",
    "        Markdown(\"### Production Countries ID\"), production_countries_id.head(), production_countries_id.shape,\n",
    "        Markdown(\"### Production Countries\"), production_countries.head(), production_countries.shape,\n",
    "        Markdown(\"### Spoken Languages ID\"), spoken_languages_id.head(), spoken_languages_id.shape,\n",
    "        Markdown(\"### Spoken Languages\"), spoken_languages.head(), spoken_languages.shape)"
   ]
  },
  {
   "cell_type": "markdown",
   "metadata": {},
   "source": [
    "<br>\n",
    "## 6 - For each movie, compute the gross margin (difference between revenue and budget)"
   ]
  },
  {
   "cell_type": "code",
   "execution_count": 15,
   "metadata": {},
   "outputs": [
    {
     "name": "stdout",
     "output_type": "stream",
     "text": [
      "\n",
      "Sono presenti sia valori di budget che di revenue == 0. In particolare 1037 per il budget e 1427 per la revenue.\n"
     ]
    },
    {
     "data": {
      "text/markdown": [
       "<br>**Gross margin per film (ordine decrescente):**"
      ],
      "text/plain": [
       "<IPython.core.display.Markdown object>"
      ]
     },
     "metadata": {},
     "output_type": "display_data"
    },
    {
     "data": {
      "text/html": [
       "<div>\n",
       "<style scoped>\n",
       "    .dataframe tbody tr th:only-of-type {\n",
       "        vertical-align: middle;\n",
       "    }\n",
       "\n",
       "    .dataframe tbody tr th {\n",
       "        vertical-align: top;\n",
       "    }\n",
       "\n",
       "    .dataframe thead th {\n",
       "        text-align: right;\n",
       "    }\n",
       "</style>\n",
       "<table border=\"1\" class=\"dataframe\">\n",
       "  <thead>\n",
       "    <tr style=\"text-align: right;\">\n",
       "      <th></th>\n",
       "      <th>title</th>\n",
       "      <th>revenue</th>\n",
       "      <th>budget</th>\n",
       "      <th>gross_margin</th>\n",
       "    </tr>\n",
       "  </thead>\n",
       "  <tbody>\n",
       "    <tr>\n",
       "      <th>0</th>\n",
       "      <td>Avatar</td>\n",
       "      <td>2787965087</td>\n",
       "      <td>237000000</td>\n",
       "      <td>2550965087</td>\n",
       "    </tr>\n",
       "    <tr>\n",
       "      <th>25</th>\n",
       "      <td>Titanic</td>\n",
       "      <td>1845034188</td>\n",
       "      <td>200000000</td>\n",
       "      <td>1645034188</td>\n",
       "    </tr>\n",
       "    <tr>\n",
       "      <th>28</th>\n",
       "      <td>Jurassic World</td>\n",
       "      <td>1513528810</td>\n",
       "      <td>150000000</td>\n",
       "      <td>1363528810</td>\n",
       "    </tr>\n",
       "    <tr>\n",
       "      <th>44</th>\n",
       "      <td>Furious 7</td>\n",
       "      <td>1506249360</td>\n",
       "      <td>190000000</td>\n",
       "      <td>1316249360</td>\n",
       "    </tr>\n",
       "    <tr>\n",
       "      <th>16</th>\n",
       "      <td>The Avengers</td>\n",
       "      <td>1519557910</td>\n",
       "      <td>220000000</td>\n",
       "      <td>1299557910</td>\n",
       "    </tr>\n",
       "  </tbody>\n",
       "</table>\n",
       "</div>"
      ],
      "text/plain": [
       "             title     revenue     budget  gross_margin\n",
       "0           Avatar  2787965087  237000000    2550965087\n",
       "25         Titanic  1845034188  200000000    1645034188\n",
       "28  Jurassic World  1513528810  150000000    1363528810\n",
       "44       Furious 7  1506249360  190000000    1316249360\n",
       "16    The Avengers  1519557910  220000000    1299557910"
      ]
     },
     "metadata": {},
     "output_type": "display_data"
    },
    {
     "data": {
      "text/plain": [
       "(4803, 4)"
      ]
     },
     "metadata": {},
     "output_type": "display_data"
    }
   ],
   "source": [
    "movies2['gross_margin'] = movies2['revenue'] - movies2['budget']\n",
    "print(\"\\nSono presenti sia valori di budget che di revenue == 0.\",\n",
    "      \"In particolare\", movies2.budget[movies2['budget']==0].shape[0], \"per il budget e\",\n",
    "      movies2.revenue[movies2['revenue']==0].shape[0], \"per la revenue.\")\n",
    "\n",
    "# output\n",
    "display(Markdown(\"<br>**Gross margin per film (ordine decrescente):**\"),\n",
    "        movies2[['title', 'revenue', 'budget', 'gross_margin']].sort_values('gross_margin', ascending = False).head(),\n",
    "        movies2[['title', 'revenue', 'budget', 'gross_margin']].shape)"
   ]
  },
  {
   "cell_type": "markdown",
   "metadata": {},
   "source": [
    "<br>\n",
    "## 7 - For each movie, compute the number of crew members"
   ]
  },
  {
   "cell_type": "code",
   "execution_count": 16,
   "metadata": {},
   "outputs": [
    {
     "name": "stdout",
     "output_type": "stream",
     "text": [
      "\n",
      " \u001b[1m Numero di film che hanno almeno un elemento in crew: 4775 \u001b[0;0m\n"
     ]
    },
    {
     "data": {
      "text/markdown": [
       "**Numero di membri della 'crew' per film (persone duplicate rimosse - ordine decrescente):**"
      ],
      "text/plain": [
       "<IPython.core.display.Markdown object>"
      ]
     },
     "metadata": {},
     "output_type": "display_data"
    },
    {
     "data": {
      "text/html": [
       "<div>\n",
       "<style scoped>\n",
       "    .dataframe tbody tr th:only-of-type {\n",
       "        vertical-align: middle;\n",
       "    }\n",
       "\n",
       "    .dataframe tbody tr th {\n",
       "        vertical-align: top;\n",
       "    }\n",
       "\n",
       "    .dataframe thead th {\n",
       "        text-align: right;\n",
       "    }\n",
       "</style>\n",
       "<table border=\"1\" class=\"dataframe\">\n",
       "  <thead>\n",
       "    <tr style=\"text-align: right;\">\n",
       "      <th></th>\n",
       "      <th>movie_id</th>\n",
       "      <th>title</th>\n",
       "      <th>n_crew</th>\n",
       "    </tr>\n",
       "  </thead>\n",
       "  <tbody>\n",
       "    <tr>\n",
       "      <th>28</th>\n",
       "      <td>135397</td>\n",
       "      <td>Jurassic World</td>\n",
       "      <td>430</td>\n",
       "    </tr>\n",
       "    <tr>\n",
       "      <th>1133</th>\n",
       "      <td>2749</td>\n",
       "      <td>15 Minutes</td>\n",
       "      <td>329</td>\n",
       "    </tr>\n",
       "    <tr>\n",
       "      <th>298</th>\n",
       "      <td>106646</td>\n",
       "      <td>The Wolf of Wall Street</td>\n",
       "      <td>239</td>\n",
       "    </tr>\n",
       "    <tr>\n",
       "      <th>231</th>\n",
       "      <td>585</td>\n",
       "      <td>Monsters, Inc.</td>\n",
       "      <td>232</td>\n",
       "    </tr>\n",
       "    <tr>\n",
       "      <th>212</th>\n",
       "      <td>435</td>\n",
       "      <td>The Day After Tomorrow</td>\n",
       "      <td>223</td>\n",
       "    </tr>\n",
       "  </tbody>\n",
       "</table>\n",
       "</div>"
      ],
      "text/plain": [
       "      movie_id                    title  n_crew\n",
       "28      135397           Jurassic World     430\n",
       "1133      2749               15 Minutes     329\n",
       "298     106646  The Wolf of Wall Street     239\n",
       "231        585           Monsters, Inc.     232\n",
       "212        435   The Day After Tomorrow     223"
      ]
     },
     "metadata": {},
     "output_type": "display_data"
    },
    {
     "data": {
      "text/plain": [
       "(4775, 3)"
      ]
     },
     "metadata": {},
     "output_type": "display_data"
    }
   ],
   "source": [
    "bold = \"\\033[1m\"\n",
    "reset = \"\\033[0;0m\"\n",
    "\n",
    "n_crew = crew[['id', 'movie_id']].drop_duplicates() # rimuoviamo persone duplicate all'interno dello stesso film (che svolgono ruoli diversi)\n",
    "\n",
    "print(\"\\n\", bold, \"Numero di film che hanno almeno un elemento in crew:\", \n",
    "      len(n_crew['movie_id'].unique()), reset) # solo 4775 film hanno elementi in crew\n",
    "\n",
    "n_crew = pd.DataFrame(n_crew.groupby('movie_id').size().reset_index().rename(columns = {0:'n_crew'}))\n",
    "n_crew = pd.merge(movies2[['title', 'movie_id']], n_crew, on = 'movie_id') # mergiamo solo con le colonne title e id. Left join perchè ci sono alcuni valori nulli\n",
    "n_crew = n_crew[['movie_id','title','n_crew']] # ordiniamo colonne\n",
    "\n",
    "# output\n",
    "display(Markdown(\"**Numero di membri della 'crew' per film (persone duplicate rimosse - ordine decrescente):**\"),\n",
    "        n_crew.sort_values('n_crew', ascending = False).head(), \n",
    "        n_crew.shape)"
   ]
  },
  {
   "cell_type": "markdown",
   "metadata": {},
   "source": [
    "<br>\n",
    "## 8 - For each movie, compute the number of directors"
   ]
  },
  {
   "cell_type": "code",
   "execution_count": 17,
   "metadata": {},
   "outputs": [
    {
     "name": "stdout",
     "output_type": "stream",
     "text": [
      "\n",
      " \u001b[1m Numero film che hanno almeno un 'Director': 4773 \u001b[0;0m\n"
     ]
    },
    {
     "data": {
      "text/markdown": [
       "<br>**Numero di 'Director' per film (ordine decresente):**"
      ],
      "text/plain": [
       "<IPython.core.display.Markdown object>"
      ]
     },
     "metadata": {},
     "output_type": "display_data"
    },
    {
     "data": {
      "text/html": [
       "<div>\n",
       "<style scoped>\n",
       "    .dataframe tbody tr th:only-of-type {\n",
       "        vertical-align: middle;\n",
       "    }\n",
       "\n",
       "    .dataframe tbody tr th {\n",
       "        vertical-align: top;\n",
       "    }\n",
       "\n",
       "    .dataframe thead th {\n",
       "        text-align: right;\n",
       "    }\n",
       "</style>\n",
       "<table border=\"1\" class=\"dataframe\">\n",
       "  <thead>\n",
       "    <tr style=\"text-align: right;\">\n",
       "      <th></th>\n",
       "      <th>movie_id</th>\n",
       "      <th>title</th>\n",
       "      <th>n_director</th>\n",
       "    </tr>\n",
       "  </thead>\n",
       "  <tbody>\n",
       "    <tr>\n",
       "      <th>2769</th>\n",
       "      <td>2266</td>\n",
       "      <td>Paris, je t'aime</td>\n",
       "      <td>21</td>\n",
       "    </tr>\n",
       "    <tr>\n",
       "      <th>3053</th>\n",
       "      <td>87818</td>\n",
       "      <td>Movie 43</td>\n",
       "      <td>12</td>\n",
       "    </tr>\n",
       "    <tr>\n",
       "      <th>4046</th>\n",
       "      <td>756</td>\n",
       "      <td>Fantasia</td>\n",
       "      <td>12</td>\n",
       "    </tr>\n",
       "    <tr>\n",
       "      <th>465</th>\n",
       "      <td>49948</td>\n",
       "      <td>Fantasia 2000</td>\n",
       "      <td>8</td>\n",
       "    </tr>\n",
       "    <tr>\n",
       "      <th>4426</th>\n",
       "      <td>3170</td>\n",
       "      <td>Bambi</td>\n",
       "      <td>7</td>\n",
       "    </tr>\n",
       "  </tbody>\n",
       "</table>\n",
       "</div>"
      ],
      "text/plain": [
       "      movie_id             title  n_director\n",
       "2769      2266  Paris, je t'aime          21\n",
       "3053     87818          Movie 43          12\n",
       "4046       756          Fantasia          12\n",
       "465      49948     Fantasia 2000           8\n",
       "4426      3170             Bambi           7"
      ]
     },
     "metadata": {},
     "output_type": "display_data"
    },
    {
     "data": {
      "text/plain": [
       "(4773, 3)"
      ]
     },
     "metadata": {},
     "output_type": "display_data"
    },
    {
     "data": {
      "text/markdown": [
       "**Film senza 'Director':**"
      ],
      "text/plain": [
       "<IPython.core.display.Markdown object>"
      ]
     },
     "metadata": {},
     "output_type": "display_data"
    },
    {
     "data": {
      "text/html": [
       "<div>\n",
       "<style scoped>\n",
       "    .dataframe tbody tr th:only-of-type {\n",
       "        vertical-align: middle;\n",
       "    }\n",
       "\n",
       "    .dataframe tbody tr th {\n",
       "        vertical-align: top;\n",
       "    }\n",
       "\n",
       "    .dataframe thead th {\n",
       "        text-align: right;\n",
       "    }\n",
       "</style>\n",
       "<table border=\"1\" class=\"dataframe\">\n",
       "  <thead>\n",
       "    <tr style=\"text-align: right;\">\n",
       "      <th></th>\n",
       "      <th>movie_id</th>\n",
       "      <th>title</th>\n",
       "      <th>n_director</th>\n",
       "    </tr>\n",
       "  </thead>\n",
       "  <tbody>\n",
       "    <tr>\n",
       "      <th>0</th>\n",
       "      <td>19615</td>\n",
       "      <td>Flying By</td>\n",
       "      <td>NaN</td>\n",
       "    </tr>\n",
       "    <tr>\n",
       "      <th>1</th>\n",
       "      <td>447027</td>\n",
       "      <td>Running Forever</td>\n",
       "      <td>NaN</td>\n",
       "    </tr>\n",
       "    <tr>\n",
       "      <th>2</th>\n",
       "      <td>26379</td>\n",
       "      <td>Paa</td>\n",
       "      <td>NaN</td>\n",
       "    </tr>\n",
       "    <tr>\n",
       "      <th>3</th>\n",
       "      <td>55831</td>\n",
       "      <td>Boynton Beach Club</td>\n",
       "      <td>NaN</td>\n",
       "    </tr>\n",
       "    <tr>\n",
       "      <th>4</th>\n",
       "      <td>371085</td>\n",
       "      <td>Sharkskin</td>\n",
       "      <td>NaN</td>\n",
       "    </tr>\n",
       "  </tbody>\n",
       "</table>\n",
       "</div>"
      ],
      "text/plain": [
       "   movie_id               title  n_director\n",
       "0     19615           Flying By         NaN\n",
       "1    447027     Running Forever         NaN\n",
       "2     26379                 Paa         NaN\n",
       "3     55831  Boynton Beach Club         NaN\n",
       "4    371085           Sharkskin         NaN"
      ]
     },
     "metadata": {},
     "output_type": "display_data"
    },
    {
     "data": {
      "text/plain": [
       "(30, 3)"
      ]
     },
     "metadata": {},
     "output_type": "display_data"
    }
   ],
   "source": [
    "bold = \"\\033[1m\"\n",
    "reset = \"\\033[0;0m\"\n",
    "\n",
    "n_director = crew[['id', 'movie_id','job']].drop_duplicates() # notiamo che non ci sono duplicati di persone con mansioni diverse, quindi i direttori non sono duplicati per lo stesso film\n",
    "n_director = n_director[n_director.job == \"Director\"] # vediamo se è un Director\n",
    "\n",
    "print(\"\\n\", bold, \"Numero film che hanno almeno un 'Director':\", \n",
    "      len(n_director['movie_id'].unique()), reset) # solo 4773 film hanno Director\n",
    "\n",
    "n_director = n_director.groupby('movie_id').size().reset_index().rename(columns = {0:'n_director'})\n",
    "n_director = pd.merge(movies2[['title', 'movie_id']], n_director, how = 'left')#.drop('movie_id', axis=1) # mergiamo solo con le colonne title e id\n",
    "n_director = n_director[['movie_id','title','n_director']]\n",
    "\n",
    "n_director_null = n_director[n_director['n_director'].isnull()].reset_index(drop = True) # prendiamo chi non ha presente 'Director'\n",
    "\n",
    "n_director = n_director[n_director['n_director'].isnull() == False].reset_index(drop = True)\n",
    "n_director['n_director'] = n_director.n_director.astype(int)\n",
    "\n",
    "display(Markdown(\"<br>**Numero di 'Director' per film (ordine decresente):**\"),\n",
    "        n_director.sort_values('n_director', ascending = False).head(), \n",
    "        n_director.shape,\n",
    "        Markdown(\"**Film senza 'Director':**\"),\n",
    "        n_director_null.head(), \n",
    "        n_director_null.shape)"
   ]
  },
  {
   "cell_type": "markdown",
   "metadata": {},
   "source": [
    "<br>\n",
    "## 9 - For each language, compute the number of movies where such language is spoken"
   ]
  },
  {
   "cell_type": "code",
   "execution_count": 18,
   "metadata": {},
   "outputs": [
    {
     "data": {
      "text/markdown": [
       "<br>**Per ogni lingua, numero di film in cui viene parlata (ordine decrescente):**"
      ],
      "text/plain": [
       "<IPython.core.display.Markdown object>"
      ]
     },
     "metadata": {},
     "output_type": "display_data"
    },
    {
     "data": {
      "text/html": [
       "<div>\n",
       "<style scoped>\n",
       "    .dataframe tbody tr th:only-of-type {\n",
       "        vertical-align: middle;\n",
       "    }\n",
       "\n",
       "    .dataframe tbody tr th {\n",
       "        vertical-align: top;\n",
       "    }\n",
       "\n",
       "    .dataframe thead th {\n",
       "        text-align: right;\n",
       "    }\n",
       "</style>\n",
       "<table border=\"1\" class=\"dataframe\">\n",
       "  <thead>\n",
       "    <tr style=\"text-align: right;\">\n",
       "      <th></th>\n",
       "      <th>iso_639_1</th>\n",
       "      <th>name</th>\n",
       "      <th>n_language</th>\n",
       "    </tr>\n",
       "  </thead>\n",
       "  <tbody>\n",
       "    <tr>\n",
       "      <th>36</th>\n",
       "      <td>en</td>\n",
       "      <td>English</td>\n",
       "      <td>4485</td>\n",
       "    </tr>\n",
       "    <tr>\n",
       "      <th>39</th>\n",
       "      <td>fr</td>\n",
       "      <td>Français</td>\n",
       "      <td>437</td>\n",
       "    </tr>\n",
       "    <tr>\n",
       "      <th>37</th>\n",
       "      <td>es</td>\n",
       "      <td>Español</td>\n",
       "      <td>351</td>\n",
       "    </tr>\n",
       "    <tr>\n",
       "      <th>34</th>\n",
       "      <td>de</td>\n",
       "      <td>Deutsch</td>\n",
       "      <td>262</td>\n",
       "    </tr>\n",
       "    <tr>\n",
       "      <th>43</th>\n",
       "      <td>it</td>\n",
       "      <td>Italiano</td>\n",
       "      <td>188</td>\n",
       "    </tr>\n",
       "  </tbody>\n",
       "</table>\n",
       "</div>"
      ],
      "text/plain": [
       "   iso_639_1      name  n_language\n",
       "36        en   English        4485\n",
       "39        fr  Français         437\n",
       "37        es   Español         351\n",
       "34        de   Deutsch         262\n",
       "43        it  Italiano         188"
      ]
     },
     "metadata": {},
     "output_type": "display_data"
    },
    {
     "data": {
      "text/plain": [
       "(87, 3)"
      ]
     },
     "metadata": {},
     "output_type": "display_data"
    }
   ],
   "source": [
    "n_language = pd.merge(spoken_languages_id, spoken_languages, on = 'iso_639_1')\n",
    "n_language = n_language.groupby(['name', 'iso_639_1']).size().reset_index().rename(columns = {0:'n_language'})\n",
    "\n",
    "display(Markdown(\"<br>**Per ogni lingua, numero di film in cui viene parlata (ordine decrescente):**\"),\n",
    "        n_language[['iso_639_1', 'name', 'n_language']].sort_values('n_language', ascending = False).head(),\n",
    "        n_language.shape)"
   ]
  },
  {
   "cell_type": "markdown",
   "metadata": {},
   "source": [
    "<br>\n",
    "## 10 - For each company and each decade, compute the overall revenue"
   ]
  },
  {
   "cell_type": "code",
   "execution_count": 19,
   "metadata": {},
   "outputs": [
    {
     "data": {
      "text/markdown": [
       "<br>Film di cui non è possibile avere decade (valore nullo):"
      ],
      "text/plain": [
       "<IPython.core.display.Markdown object>"
      ]
     },
     "metadata": {},
     "output_type": "display_data"
    },
    {
     "data": {
      "text/html": [
       "<div>\n",
       "<style scoped>\n",
       "    .dataframe tbody tr th:only-of-type {\n",
       "        vertical-align: middle;\n",
       "    }\n",
       "\n",
       "    .dataframe tbody tr th {\n",
       "        vertical-align: top;\n",
       "    }\n",
       "\n",
       "    .dataframe thead th {\n",
       "        text-align: right;\n",
       "    }\n",
       "</style>\n",
       "<table border=\"1\" class=\"dataframe\">\n",
       "  <thead>\n",
       "    <tr style=\"text-align: right;\">\n",
       "      <th></th>\n",
       "      <th>title</th>\n",
       "      <th>release_date</th>\n",
       "    </tr>\n",
       "  </thead>\n",
       "  <tbody>\n",
       "    <tr>\n",
       "      <th>4553</th>\n",
       "      <td>America Is Still the Place</td>\n",
       "      <td>NaN</td>\n",
       "    </tr>\n",
       "  </tbody>\n",
       "</table>\n",
       "</div>"
      ],
      "text/plain": [
       "                           title release_date\n",
       "4553  America Is Still the Place          NaN"
      ]
     },
     "metadata": {},
     "output_type": "display_data"
    },
    {
     "data": {
      "text/markdown": [
       "<br>**Revenue totale calcolato per ogni azienda e decade (ordine decrescente):**"
      ],
      "text/plain": [
       "<IPython.core.display.Markdown object>"
      ]
     },
     "metadata": {},
     "output_type": "display_data"
    },
    {
     "data": {
      "text/html": [
       "<div>\n",
       "<style scoped>\n",
       "    .dataframe tbody tr th:only-of-type {\n",
       "        vertical-align: middle;\n",
       "    }\n",
       "\n",
       "    .dataframe tbody tr th {\n",
       "        vertical-align: top;\n",
       "    }\n",
       "\n",
       "    .dataframe thead th {\n",
       "        text-align: right;\n",
       "    }\n",
       "</style>\n",
       "<table border=\"1\" class=\"dataframe\">\n",
       "  <thead>\n",
       "    <tr style=\"text-align: right;\">\n",
       "      <th></th>\n",
       "      <th>name</th>\n",
       "      <th>decade</th>\n",
       "      <th>revenue</th>\n",
       "    </tr>\n",
       "  </thead>\n",
       "  <tbody>\n",
       "    <tr>\n",
       "      <th>5881</th>\n",
       "      <td>Warner Bros.</td>\n",
       "      <td>2000</td>\n",
       "      <td>22897419289</td>\n",
       "    </tr>\n",
       "    <tr>\n",
       "      <th>5604</th>\n",
       "      <td>Twentieth Century Fox Film Corporation</td>\n",
       "      <td>2000</td>\n",
       "      <td>15889321197</td>\n",
       "    </tr>\n",
       "    <tr>\n",
       "      <th>5692</th>\n",
       "      <td>Universal Pictures</td>\n",
       "      <td>2000</td>\n",
       "      <td>15725218820</td>\n",
       "    </tr>\n",
       "    <tr>\n",
       "      <th>5693</th>\n",
       "      <td>Universal Pictures</td>\n",
       "      <td>2010</td>\n",
       "      <td>15521006459</td>\n",
       "    </tr>\n",
       "    <tr>\n",
       "      <th>4082</th>\n",
       "      <td>Paramount Pictures</td>\n",
       "      <td>2010</td>\n",
       "      <td>15110115837</td>\n",
       "    </tr>\n",
       "  </tbody>\n",
       "</table>\n",
       "</div>"
      ],
      "text/plain": [
       "                                        name  decade      revenue\n",
       "5881                            Warner Bros.    2000  22897419289\n",
       "5604  Twentieth Century Fox Film Corporation    2000  15889321197\n",
       "5692                      Universal Pictures    2000  15725218820\n",
       "5693                      Universal Pictures    2010  15521006459\n",
       "4082                      Paramount Pictures    2010  15110115837"
      ]
     },
     "metadata": {},
     "output_type": "display_data"
    },
    {
     "data": {
      "text/plain": [
       "(6123, 3)"
      ]
     },
     "metadata": {},
     "output_type": "display_data"
    },
    {
     "data": {
      "text/markdown": [
       "<br>**Revenue finale calcolato per ogni azienda e decade (rapporto tra revenue e numero di aziende         che hanno collaborato alla realizzazione del film - ordine decrescente):**"
      ],
      "text/plain": [
       "<IPython.core.display.Markdown object>"
      ]
     },
     "metadata": {},
     "output_type": "display_data"
    },
    {
     "data": {
      "text/html": [
       "<div>\n",
       "<style scoped>\n",
       "    .dataframe tbody tr th:only-of-type {\n",
       "        vertical-align: middle;\n",
       "    }\n",
       "\n",
       "    .dataframe tbody tr th {\n",
       "        vertical-align: top;\n",
       "    }\n",
       "\n",
       "    .dataframe thead th {\n",
       "        text-align: right;\n",
       "    }\n",
       "</style>\n",
       "<table border=\"1\" class=\"dataframe\">\n",
       "  <thead>\n",
       "    <tr style=\"text-align: right;\">\n",
       "      <th></th>\n",
       "      <th>name</th>\n",
       "      <th>decade</th>\n",
       "      <th>final_revenue</th>\n",
       "    </tr>\n",
       "  </thead>\n",
       "  <tbody>\n",
       "    <tr>\n",
       "      <th>3381</th>\n",
       "      <td>Marvel Studios</td>\n",
       "      <td>2010</td>\n",
       "      <td>6190159565.25</td>\n",
       "    </tr>\n",
       "    <tr>\n",
       "      <th>5881</th>\n",
       "      <td>Warner Bros.</td>\n",
       "      <td>2000</td>\n",
       "      <td>6133589457.85</td>\n",
       "    </tr>\n",
       "    <tr>\n",
       "      <th>5856</th>\n",
       "      <td>Walt Disney Pictures</td>\n",
       "      <td>2010</td>\n",
       "      <td>6003551354.92</td>\n",
       "    </tr>\n",
       "    <tr>\n",
       "      <th>1145</th>\n",
       "      <td>Columbia Pictures</td>\n",
       "      <td>2010</td>\n",
       "      <td>5121072773.12</td>\n",
       "    </tr>\n",
       "    <tr>\n",
       "      <th>5693</th>\n",
       "      <td>Universal Pictures</td>\n",
       "      <td>2010</td>\n",
       "      <td>4896168347.62</td>\n",
       "    </tr>\n",
       "  </tbody>\n",
       "</table>\n",
       "</div>"
      ],
      "text/plain": [
       "                      name  decade  final_revenue\n",
       "3381        Marvel Studios    2010  6190159565.25\n",
       "5881          Warner Bros.    2000  6133589457.85\n",
       "5856  Walt Disney Pictures    2010  6003551354.92\n",
       "1145     Columbia Pictures    2010  5121072773.12\n",
       "5693    Universal Pictures    2010  4896168347.62"
      ]
     },
     "metadata": {},
     "output_type": "display_data"
    },
    {
     "data": {
      "text/plain": [
       "(6123, 3)"
      ]
     },
     "metadata": {},
     "output_type": "display_data"
    }
   ],
   "source": [
    "pd.set_option('display.float_format', lambda x: '%.2f' % x) # no scientific notation\n",
    "\n",
    "movies2['decade'] = movies2.year//10*10 # calcolo decade\n",
    "\n",
    "decade_false = movies2[movies2['decade'].isnull()] # vediamo dove decade e quindi year è nullo\n",
    "\n",
    "# merge delle tabelle di interesse\n",
    "overall = pd.merge(movies2, production_companies_id, on = 'movie_id')\n",
    "overall = pd.merge(overall, production_companies, on = 'id')\n",
    "\n",
    "# appoggio per la richiesta 12\n",
    "overall2 = overall[['decade', 'name', 'title', 'revenue']].copy() # appoggio per la richiesta 12\n",
    "overall2.decade = overall2.decade.astype(int)\n",
    "\n",
    "# calcolo overall revenue\n",
    "overall = overall.groupby(['name', 'decade']).revenue.sum().reset_index() # sommiamo revenue se stesso name e decade\n",
    "overall.decade = overall.decade.astype(int)\n",
    "\n",
    "# nuovo overall revenue calcolato come rapporto tra revenue e numero di aziende che hanno collaborato alla realizzazione di un film\n",
    "number_comp_movie = production_companies_id.groupby('movie_id').count().rename(columns = {'id':'n_comp'}).reset_index()\n",
    "overall_div = pd.merge(number_comp_movie, movies2, on = 'movie_id')\n",
    "overall_div['final_revenue'] = overall_div['revenue']/overall_div['n_comp']\n",
    "overall_div = pd.merge(overall_div, production_companies_id, on = 'movie_id')\n",
    "overall_div = pd.merge(overall_div, production_companies, on = 'id')\n",
    "overall_div = overall_div.groupby(['name', 'decade']).final_revenue.sum().reset_index() # sommiamo revenue se stesso name e decade\n",
    "overall_div.decade = overall_div.decade.astype(int)\n",
    "\n",
    "# output\n",
    "display(Markdown(\"<br>Film di cui non è possibile avere decade (valore nullo):\"),\n",
    "        decade_false[['title', 'release_date']],\n",
    "        Markdown(\"<br>**Revenue totale calcolato per ogni azienda e decade (ordine decrescente):**\"),\n",
    "        overall.sort_values('revenue', ascending = False).head(), \n",
    "        overall.shape,\n",
    "        Markdown(\"<br>**Revenue finale calcolato per ogni azienda e decade (rapporto tra revenue e numero di aziende \\\n",
    "        che hanno collaborato alla realizzazione del film - ordine decrescente):**\"),\n",
    "        overall_div.sort_values('final_revenue', ascending = False).head(),\n",
    "        overall_div.shape)"
   ]
  },
  {
   "cell_type": "markdown",
   "metadata": {},
   "source": [
    "***Non sapendo quale soluzione sia la più consona, d'ora in poi verrà considerato come overall revenue il primo mostrato, ovvero quello senza i rapporti con il numero di aziende che hanno collaborato alla realizzazione del film***"
   ]
  },
  {
   "cell_type": "markdown",
   "metadata": {},
   "source": [
    "<br>\n",
    "## 11 - For each decade, compute the company with maximum revenue"
   ]
  },
  {
   "cell_type": "markdown",
   "metadata": {},
   "source": [
    "*Nel primo blocco di codice verranno calcolate le aziende, per ogni decade, con il revenue massimo (revenue sommato in base a tutti i film prodotti in quella decade).*\n",
    "\n",
    "*Nel secondo blocco di codice verranno calcolate, per ogni decade, le aziende con revenue massimo prendendo in considerazione il valore per un singolo film.*"
   ]
  },
  {
   "cell_type": "code",
   "execution_count": 20,
   "metadata": {},
   "outputs": [
    {
     "data": {
      "text/markdown": [
       "<br>Notiamo che ci possono essere più aziende con lo stesso revenue massimo per decade (un film può avere più aziende che hanno collaborato alla creazione). Es:"
      ],
      "text/plain": [
       "<IPython.core.display.Markdown object>"
      ]
     },
     "metadata": {},
     "output_type": "display_data"
    },
    {
     "data": {
      "text/html": [
       "<div>\n",
       "<style scoped>\n",
       "    .dataframe tbody tr th:only-of-type {\n",
       "        vertical-align: middle;\n",
       "    }\n",
       "\n",
       "    .dataframe tbody tr th {\n",
       "        vertical-align: top;\n",
       "    }\n",
       "\n",
       "    .dataframe thead th {\n",
       "        text-align: right;\n",
       "    }\n",
       "</style>\n",
       "<table border=\"1\" class=\"dataframe\">\n",
       "  <thead>\n",
       "    <tr style=\"text-align: right;\">\n",
       "      <th></th>\n",
       "      <th>name</th>\n",
       "      <th>decade</th>\n",
       "      <th>revenue</th>\n",
       "    </tr>\n",
       "  </thead>\n",
       "  <tbody>\n",
       "    <tr>\n",
       "      <th>5555</th>\n",
       "      <td>Triangle Film Corporation</td>\n",
       "      <td>1910</td>\n",
       "      <td>8394751</td>\n",
       "    </tr>\n",
       "    <tr>\n",
       "      <th>5872</th>\n",
       "      <td>Wark Producing Corp.</td>\n",
       "      <td>1910</td>\n",
       "      <td>8394751</td>\n",
       "    </tr>\n",
       "  </tbody>\n",
       "</table>\n",
       "</div>"
      ],
      "text/plain": [
       "                           name  decade  revenue\n",
       "5555  Triangle Film Corporation    1910  8394751\n",
       "5872       Wark Producing Corp.    1910  8394751"
      ]
     },
     "metadata": {},
     "output_type": "display_data"
    },
    {
     "data": {
      "text/markdown": [
       "<br>**Per ogni decade, aziende con revenue massimo**"
      ],
      "text/plain": [
       "<IPython.core.display.Markdown object>"
      ]
     },
     "metadata": {},
     "output_type": "display_data"
    },
    {
     "data": {
      "text/html": [
       "<div>\n",
       "<style scoped>\n",
       "    .dataframe tbody tr th:only-of-type {\n",
       "        vertical-align: middle;\n",
       "    }\n",
       "\n",
       "    .dataframe tbody tr th {\n",
       "        vertical-align: top;\n",
       "    }\n",
       "\n",
       "    .dataframe thead th {\n",
       "        text-align: right;\n",
       "    }\n",
       "</style>\n",
       "<table border=\"1\" class=\"dataframe\">\n",
       "  <thead>\n",
       "    <tr style=\"text-align: right;\">\n",
       "      <th></th>\n",
       "      <th>decade</th>\n",
       "      <th>name</th>\n",
       "      <th>revenue</th>\n",
       "    </tr>\n",
       "  </thead>\n",
       "  <tbody>\n",
       "    <tr>\n",
       "      <th>0</th>\n",
       "      <td>1910</td>\n",
       "      <td>Triangle Film Corporation</td>\n",
       "      <td>8394751</td>\n",
       "    </tr>\n",
       "    <tr>\n",
       "      <th>1</th>\n",
       "      <td>1910</td>\n",
       "      <td>Wark Producing Corp.</td>\n",
       "      <td>8394751</td>\n",
       "    </tr>\n",
       "    <tr>\n",
       "      <th>2</th>\n",
       "      <td>1920</td>\n",
       "      <td>Metro-Goldwyn-Mayer (MGM)</td>\n",
       "      <td>26358000</td>\n",
       "    </tr>\n",
       "    <tr>\n",
       "      <th>3</th>\n",
       "      <td>1930</td>\n",
       "      <td>Metro-Goldwyn-Mayer (MGM)</td>\n",
       "      <td>400176459</td>\n",
       "    </tr>\n",
       "    <tr>\n",
       "      <th>4</th>\n",
       "      <td>1930</td>\n",
       "      <td>Selznick International Pictures</td>\n",
       "      <td>400176459</td>\n",
       "    </tr>\n",
       "    <tr>\n",
       "      <th>5</th>\n",
       "      <td>1940</td>\n",
       "      <td>Walt Disney Productions</td>\n",
       "      <td>351747150</td>\n",
       "    </tr>\n",
       "    <tr>\n",
       "      <th>6</th>\n",
       "      <td>1950</td>\n",
       "      <td>Metro-Goldwyn-Mayer (MGM)</td>\n",
       "      <td>73770324</td>\n",
       "    </tr>\n",
       "    <tr>\n",
       "      <th>7</th>\n",
       "      <td>1960</td>\n",
       "      <td>Eon Productions</td>\n",
       "      <td>598134765</td>\n",
       "    </tr>\n",
       "    <tr>\n",
       "      <th>8</th>\n",
       "      <td>1970</td>\n",
       "      <td>United Artists</td>\n",
       "      <td>1392271577</td>\n",
       "    </tr>\n",
       "    <tr>\n",
       "      <th>9</th>\n",
       "      <td>1980</td>\n",
       "      <td>Paramount Pictures</td>\n",
       "      <td>4431144486</td>\n",
       "    </tr>\n",
       "    <tr>\n",
       "      <th>10</th>\n",
       "      <td>1990</td>\n",
       "      <td>Paramount Pictures</td>\n",
       "      <td>8824732067</td>\n",
       "    </tr>\n",
       "    <tr>\n",
       "      <th>11</th>\n",
       "      <td>2000</td>\n",
       "      <td>Warner Bros.</td>\n",
       "      <td>22897419289</td>\n",
       "    </tr>\n",
       "    <tr>\n",
       "      <th>12</th>\n",
       "      <td>2010</td>\n",
       "      <td>Universal Pictures</td>\n",
       "      <td>15521006459</td>\n",
       "    </tr>\n",
       "  </tbody>\n",
       "</table>\n",
       "</div>"
      ],
      "text/plain": [
       "    decade                             name      revenue\n",
       "0     1910        Triangle Film Corporation      8394751\n",
       "1     1910             Wark Producing Corp.      8394751\n",
       "2     1920        Metro-Goldwyn-Mayer (MGM)     26358000\n",
       "3     1930        Metro-Goldwyn-Mayer (MGM)    400176459\n",
       "4     1930  Selznick International Pictures    400176459\n",
       "5     1940          Walt Disney Productions    351747150\n",
       "6     1950        Metro-Goldwyn-Mayer (MGM)     73770324\n",
       "7     1960                  Eon Productions    598134765\n",
       "8     1970                   United Artists   1392271577\n",
       "9     1980               Paramount Pictures   4431144486\n",
       "10    1990               Paramount Pictures   8824732067\n",
       "11    2000                     Warner Bros.  22897419289\n",
       "12    2010               Universal Pictures  15521006459"
      ]
     },
     "metadata": {},
     "output_type": "display_data"
    },
    {
     "data": {
      "text/plain": [
       "(13, 3)"
      ]
     },
     "metadata": {},
     "output_type": "display_data"
    }
   ],
   "source": [
    "max_rev = overall.groupby('decade')['revenue'].max().reset_index() # vediamo massimo per ogni decade (ce ne può essere più di uno per decade)\n",
    "max_rev = pd.merge(max_rev, overall, on = ['decade', 'revenue'])[['decade', 'name', 'revenue']] # mergiamo per trovare tutte le aziende con lo stesso max per decade\n",
    "\n",
    "# output\n",
    "display(Markdown(\"<br>Notiamo che ci possono essere più aziende con lo stesso revenue massimo per decade (un film può avere più aziende che hanno collaborato alla creazione). Es:\"), \n",
    "        overall.sort_values(['decade', 'revenue'], ascending = False).tail(2),\n",
    "        Markdown(\"<br>**Per ogni decade, aziende con revenue massimo**\"),\n",
    "        max_rev,\n",
    "        max_rev.shape)"
   ]
  },
  {
   "cell_type": "code",
   "execution_count": 21,
   "metadata": {},
   "outputs": [
    {
     "data": {
      "text/markdown": [
       "<br>**Per ogni decade aziende con 'revenue' massimo prendendo in considerazione un solo                  film (per uno stesso film possono esserci più aziende):**"
      ],
      "text/plain": [
       "<IPython.core.display.Markdown object>"
      ]
     },
     "metadata": {},
     "output_type": "display_data"
    },
    {
     "data": {
      "text/html": [
       "<div>\n",
       "<style scoped>\n",
       "    .dataframe tbody tr th:only-of-type {\n",
       "        vertical-align: middle;\n",
       "    }\n",
       "\n",
       "    .dataframe tbody tr th {\n",
       "        vertical-align: top;\n",
       "    }\n",
       "\n",
       "    .dataframe thead th {\n",
       "        text-align: right;\n",
       "    }\n",
       "</style>\n",
       "<table border=\"1\" class=\"dataframe\">\n",
       "  <thead>\n",
       "    <tr style=\"text-align: right;\">\n",
       "      <th></th>\n",
       "      <th>decade</th>\n",
       "      <th>name</th>\n",
       "      <th>title</th>\n",
       "      <th>revenue</th>\n",
       "    </tr>\n",
       "  </thead>\n",
       "  <tbody>\n",
       "    <tr>\n",
       "      <th>0</th>\n",
       "      <td>1910.00</td>\n",
       "      <td>Triangle Film Corporation</td>\n",
       "      <td>Intolerance</td>\n",
       "      <td>8394751</td>\n",
       "    </tr>\n",
       "    <tr>\n",
       "      <th>1</th>\n",
       "      <td>1910.00</td>\n",
       "      <td>Wark Producing Corp.</td>\n",
       "      <td>Intolerance</td>\n",
       "      <td>8394751</td>\n",
       "    </tr>\n",
       "    <tr>\n",
       "      <th>2</th>\n",
       "      <td>1920.00</td>\n",
       "      <td>Metro-Goldwyn-Mayer (MGM)</td>\n",
       "      <td>The Big Parade</td>\n",
       "      <td>22000000</td>\n",
       "    </tr>\n",
       "    <tr>\n",
       "      <th>3</th>\n",
       "      <td>1930.00</td>\n",
       "      <td>Metro-Goldwyn-Mayer (MGM)</td>\n",
       "      <td>Gone with the Wind</td>\n",
       "      <td>400176459</td>\n",
       "    </tr>\n",
       "    <tr>\n",
       "      <th>4</th>\n",
       "      <td>1930.00</td>\n",
       "      <td>Selznick International Pictures</td>\n",
       "      <td>Gone with the Wind</td>\n",
       "      <td>400176459</td>\n",
       "    </tr>\n",
       "    <tr>\n",
       "      <th>5</th>\n",
       "      <td>1940.00</td>\n",
       "      <td>Walt Disney Productions</td>\n",
       "      <td>Bambi</td>\n",
       "      <td>267447150</td>\n",
       "    </tr>\n",
       "    <tr>\n",
       "      <th>6</th>\n",
       "      <td>1950.00</td>\n",
       "      <td>Twentieth Century Fox Film Corporation</td>\n",
       "      <td>The Robe</td>\n",
       "      <td>36000000</td>\n",
       "    </tr>\n",
       "    <tr>\n",
       "      <th>7</th>\n",
       "      <td>1950.00</td>\n",
       "      <td>Paramount Pictures</td>\n",
       "      <td>The Greatest Show on Earth</td>\n",
       "      <td>36000000</td>\n",
       "    </tr>\n",
       "    <tr>\n",
       "      <th>8</th>\n",
       "      <td>1960.00</td>\n",
       "      <td>Twentieth Century Fox Film Corporation</td>\n",
       "      <td>The Sound of Music</td>\n",
       "      <td>286214286</td>\n",
       "    </tr>\n",
       "    <tr>\n",
       "      <th>9</th>\n",
       "      <td>1960.00</td>\n",
       "      <td>Robert Wise Productions</td>\n",
       "      <td>The Sound of Music</td>\n",
       "      <td>286214286</td>\n",
       "    </tr>\n",
       "    <tr>\n",
       "      <th>10</th>\n",
       "      <td>1960.00</td>\n",
       "      <td>Argyle Enterprises</td>\n",
       "      <td>The Sound of Music</td>\n",
       "      <td>286214286</td>\n",
       "    </tr>\n",
       "    <tr>\n",
       "      <th>11</th>\n",
       "      <td>1970.00</td>\n",
       "      <td>Twentieth Century Fox Film Corporation</td>\n",
       "      <td>Star Wars</td>\n",
       "      <td>775398007</td>\n",
       "    </tr>\n",
       "    <tr>\n",
       "      <th>12</th>\n",
       "      <td>1970.00</td>\n",
       "      <td>Lucasfilm</td>\n",
       "      <td>Star Wars</td>\n",
       "      <td>775398007</td>\n",
       "    </tr>\n",
       "    <tr>\n",
       "      <th>13</th>\n",
       "      <td>1980.00</td>\n",
       "      <td>Amblin Entertainment</td>\n",
       "      <td>E.T. the Extra-Terrestrial</td>\n",
       "      <td>792910554</td>\n",
       "    </tr>\n",
       "    <tr>\n",
       "      <th>14</th>\n",
       "      <td>1980.00</td>\n",
       "      <td>Universal Pictures</td>\n",
       "      <td>E.T. the Extra-Terrestrial</td>\n",
       "      <td>792910554</td>\n",
       "    </tr>\n",
       "    <tr>\n",
       "      <th>15</th>\n",
       "      <td>1990.00</td>\n",
       "      <td>Twentieth Century Fox Film Corporation</td>\n",
       "      <td>Titanic</td>\n",
       "      <td>1845034188</td>\n",
       "    </tr>\n",
       "    <tr>\n",
       "      <th>16</th>\n",
       "      <td>1990.00</td>\n",
       "      <td>Lightstorm Entertainment</td>\n",
       "      <td>Titanic</td>\n",
       "      <td>1845034188</td>\n",
       "    </tr>\n",
       "    <tr>\n",
       "      <th>17</th>\n",
       "      <td>1990.00</td>\n",
       "      <td>Paramount Pictures</td>\n",
       "      <td>Titanic</td>\n",
       "      <td>1845034188</td>\n",
       "    </tr>\n",
       "    <tr>\n",
       "      <th>18</th>\n",
       "      <td>2000.00</td>\n",
       "      <td>Ingenious Film Partners</td>\n",
       "      <td>Avatar</td>\n",
       "      <td>2787965087</td>\n",
       "    </tr>\n",
       "    <tr>\n",
       "      <th>19</th>\n",
       "      <td>2000.00</td>\n",
       "      <td>Twentieth Century Fox Film Corporation</td>\n",
       "      <td>Avatar</td>\n",
       "      <td>2787965087</td>\n",
       "    </tr>\n",
       "    <tr>\n",
       "      <th>20</th>\n",
       "      <td>2000.00</td>\n",
       "      <td>Dune Entertainment</td>\n",
       "      <td>Avatar</td>\n",
       "      <td>2787965087</td>\n",
       "    </tr>\n",
       "    <tr>\n",
       "      <th>21</th>\n",
       "      <td>2000.00</td>\n",
       "      <td>Lightstorm Entertainment</td>\n",
       "      <td>Avatar</td>\n",
       "      <td>2787965087</td>\n",
       "    </tr>\n",
       "    <tr>\n",
       "      <th>22</th>\n",
       "      <td>2010.00</td>\n",
       "      <td>Marvel Studios</td>\n",
       "      <td>The Avengers</td>\n",
       "      <td>1519557910</td>\n",
       "    </tr>\n",
       "    <tr>\n",
       "      <th>23</th>\n",
       "      <td>2010.00</td>\n",
       "      <td>Paramount Pictures</td>\n",
       "      <td>The Avengers</td>\n",
       "      <td>1519557910</td>\n",
       "    </tr>\n",
       "  </tbody>\n",
       "</table>\n",
       "</div>"
      ],
      "text/plain": [
       "    decade                                    name  \\\n",
       "0  1910.00               Triangle Film Corporation   \n",
       "1  1910.00                    Wark Producing Corp.   \n",
       "2  1920.00               Metro-Goldwyn-Mayer (MGM)   \n",
       "3  1930.00               Metro-Goldwyn-Mayer (MGM)   \n",
       "4  1930.00         Selznick International Pictures   \n",
       "5  1940.00                 Walt Disney Productions   \n",
       "6  1950.00  Twentieth Century Fox Film Corporation   \n",
       "7  1950.00                      Paramount Pictures   \n",
       "8  1960.00  Twentieth Century Fox Film Corporation   \n",
       "9  1960.00                 Robert Wise Productions   \n",
       "10 1960.00                      Argyle Enterprises   \n",
       "11 1970.00  Twentieth Century Fox Film Corporation   \n",
       "12 1970.00                               Lucasfilm   \n",
       "13 1980.00                    Amblin Entertainment   \n",
       "14 1980.00                      Universal Pictures   \n",
       "15 1990.00  Twentieth Century Fox Film Corporation   \n",
       "16 1990.00                Lightstorm Entertainment   \n",
       "17 1990.00                      Paramount Pictures   \n",
       "18 2000.00                 Ingenious Film Partners   \n",
       "19 2000.00  Twentieth Century Fox Film Corporation   \n",
       "20 2000.00                      Dune Entertainment   \n",
       "21 2000.00                Lightstorm Entertainment   \n",
       "22 2010.00                          Marvel Studios   \n",
       "23 2010.00                      Paramount Pictures   \n",
       "\n",
       "                         title     revenue  \n",
       "0                  Intolerance     8394751  \n",
       "1                  Intolerance     8394751  \n",
       "2               The Big Parade    22000000  \n",
       "3           Gone with the Wind   400176459  \n",
       "4           Gone with the Wind   400176459  \n",
       "5                        Bambi   267447150  \n",
       "6                     The Robe    36000000  \n",
       "7   The Greatest Show on Earth    36000000  \n",
       "8           The Sound of Music   286214286  \n",
       "9           The Sound of Music   286214286  \n",
       "10          The Sound of Music   286214286  \n",
       "11                   Star Wars   775398007  \n",
       "12                   Star Wars   775398007  \n",
       "13  E.T. the Extra-Terrestrial   792910554  \n",
       "14  E.T. the Extra-Terrestrial   792910554  \n",
       "15                     Titanic  1845034188  \n",
       "16                     Titanic  1845034188  \n",
       "17                     Titanic  1845034188  \n",
       "18                      Avatar  2787965087  \n",
       "19                      Avatar  2787965087  \n",
       "20                      Avatar  2787965087  \n",
       "21                      Avatar  2787965087  \n",
       "22                The Avengers  1519557910  \n",
       "23                The Avengers  1519557910  "
      ]
     },
     "metadata": {},
     "output_type": "display_data"
    },
    {
     "data": {
      "text/plain": [
       "(24, 4)"
      ]
     },
     "metadata": {},
     "output_type": "display_data"
    }
   ],
   "source": [
    "max_rev2 = movies2.groupby('decade')['revenue'].max().reset_index() # ora raggruppiamo da movies per considerare il singolo film\n",
    "max_rev2 = pd.merge(max_rev2, overall2, on = ['decade', 'revenue'])[['decade', 'name', 'title', 'revenue']]\n",
    "\n",
    "# output\n",
    "display(Markdown(\"<br>**Per ogni decade aziende con 'revenue' massimo prendendo in considerazione un solo \\\n",
    "                 film (per uno stesso film possono esserci più aziende):**\"),\n",
    "        max_rev2,\n",
    "        max_rev2.shape)"
   ]
  },
  {
   "cell_type": "markdown",
   "metadata": {},
   "source": [
    "<br>\n",
    "## 12 - In each year, how many movies have revenue smaller than the budget?"
   ]
  },
  {
   "cell_type": "code",
   "execution_count": 22,
   "metadata": {},
   "outputs": [
    {
     "data": {
      "text/markdown": [
       "<br>**Numero di film che hanno una 'revenue' minore del budget a disposizione (ordine decrescente):**"
      ],
      "text/plain": [
       "<IPython.core.display.Markdown object>"
      ]
     },
     "metadata": {},
     "output_type": "display_data"
    },
    {
     "data": {
      "text/html": [
       "<div>\n",
       "<style scoped>\n",
       "    .dataframe tbody tr th:only-of-type {\n",
       "        vertical-align: middle;\n",
       "    }\n",
       "\n",
       "    .dataframe tbody tr th {\n",
       "        vertical-align: top;\n",
       "    }\n",
       "\n",
       "    .dataframe thead th {\n",
       "        text-align: right;\n",
       "    }\n",
       "</style>\n",
       "<table border=\"1\" class=\"dataframe\">\n",
       "  <thead>\n",
       "    <tr style=\"text-align: right;\">\n",
       "      <th></th>\n",
       "      <th>year</th>\n",
       "      <th>n_neg_gross_margin</th>\n",
       "    </tr>\n",
       "  </thead>\n",
       "  <tbody>\n",
       "    <tr>\n",
       "      <th>47</th>\n",
       "      <td>2009</td>\n",
       "      <td>78</td>\n",
       "    </tr>\n",
       "    <tr>\n",
       "      <th>40</th>\n",
       "      <td>2002</td>\n",
       "      <td>71</td>\n",
       "    </tr>\n",
       "    <tr>\n",
       "      <th>49</th>\n",
       "      <td>2011</td>\n",
       "      <td>70</td>\n",
       "    </tr>\n",
       "    <tr>\n",
       "      <th>53</th>\n",
       "      <td>2015</td>\n",
       "      <td>67</td>\n",
       "    </tr>\n",
       "    <tr>\n",
       "      <th>48</th>\n",
       "      <td>2010</td>\n",
       "      <td>65</td>\n",
       "    </tr>\n",
       "  </tbody>\n",
       "</table>\n",
       "</div>"
      ],
      "text/plain": [
       "    year  n_neg_gross_margin\n",
       "47  2009                  78\n",
       "40  2002                  71\n",
       "49  2011                  70\n",
       "53  2015                  67\n",
       "48  2010                  65"
      ]
     },
     "metadata": {},
     "output_type": "display_data"
    },
    {
     "data": {
      "text/plain": [
       "(55, 2)"
      ]
     },
     "metadata": {},
     "output_type": "display_data"
    }
   ],
   "source": [
    "movies_smaller = movies2.loc[movies2['gross_margin']<0, ['year', 'gross_margin']]\n",
    "movies_smaller.year = movies_smaller.year.astype(int)\n",
    "movies_smaller = movies_smaller.groupby('year').size().reset_index().rename(columns = {0:'n_neg_gross_margin'})\n",
    "\n",
    "# output\n",
    "display(Markdown(\"<br>**Numero di film che hanno una 'revenue' minore del budget a disposizione (ordine decrescente):**\"),\n",
    "        movies_smaller.sort_values(['n_neg_gross_margin'],  ascending = False).head(),\n",
    "        movies_smaller.shape)"
   ]
  }
 ],
 "metadata": {
  "kernelspec": {
   "display_name": "Python 3",
   "language": "python",
   "name": "python3"
  },
  "language_info": {
   "codemirror_mode": {
    "name": "ipython",
    "version": 3
   },
   "file_extension": ".py",
   "mimetype": "text/x-python",
   "name": "python",
   "nbconvert_exporter": "python",
   "pygments_lexer": "ipython3",
   "version": "3.6.4"
  }
 },
 "nbformat": 4,
 "nbformat_minor": 2
}
